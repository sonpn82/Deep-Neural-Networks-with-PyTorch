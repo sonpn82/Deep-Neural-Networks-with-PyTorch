{
 "cells": [
  {
   "cell_type": "markdown",
   "metadata": {},
   "source": [
    "# IBM Developer Skills Network"
   ]
  },
  {
   "cell_type": "markdown",
   "metadata": {},
   "source": [
    "# Linear Regression 1D Training One Parameter"
   ]
  },
  {
   "cell_type": "code",
   "execution_count": 21,
   "metadata": {},
   "outputs": [],
   "source": [
    "import numpy as np\r\n",
    "import matplotlib.pyplot as plt"
   ]
  },
  {
   "cell_type": "code",
   "execution_count": 22,
   "metadata": {},
   "outputs": [],
   "source": [
    "# The class for plotting\r\n",
    "\r\n",
    "class plot_diagram():\r\n",
    "    \r\n",
    "    # Constructor\r\n",
    "    def __init__(self, X, Y, w, stop, go = False):\r\n",
    "        start = w.data\r\n",
    "        self.error = []\r\n",
    "        self.parameter = []\r\n",
    "        self.X = X.numpy()\r\n",
    "        self.Y = Y.numpy()\r\n",
    "        self.parameter_values = torch.arange(start, stop)\r\n",
    "        self.Loss_function = [criterion(forward(X), Y) for w.data in self.parameter_values] \r\n",
    "        w.data = start\r\n",
    "        \r\n",
    "    # Executor\r\n",
    "    def __call__(self, Yhat, w, error, n):\r\n",
    "        self.error.append(error)\r\n",
    "        self.parameter.append(w.data)\r\n",
    "        plt.subplot(212)\r\n",
    "        plt.plot(self.X, Yhat.detach().numpy())\r\n",
    "        plt.plot(self.X, self.Y,'ro')\r\n",
    "        plt.xlabel(\"A\")\r\n",
    "        plt.ylim(-20, 20)\r\n",
    "        plt.subplot(211)\r\n",
    "        plt.title(\"Data Space (top) Estimated Line (bottom) Iteration \" + str(n))\r\n",
    "        plt.plot(self.parameter_values.detach().numpy(), self.Loss_function)   \r\n",
    "        plt.plot(self.parameter, self.error, 'ro')\r\n",
    "        plt.xlabel(\"B\")\r\n",
    "        plt.figure()\r\n",
    "    \r\n",
    "    # Destructor\r\n",
    "    def __del__(self):\r\n",
    "        plt.close('all')"
   ]
  },
  {
   "cell_type": "markdown",
   "metadata": {},
   "source": [
    "# Make some Data"
   ]
  },
  {
   "cell_type": "code",
   "execution_count": 23,
   "metadata": {},
   "outputs": [],
   "source": [
    "import torch"
   ]
  },
  {
   "cell_type": "code",
   "execution_count": 24,
   "metadata": {},
   "outputs": [
    {
     "data": {
      "text/plain": [
       "torch.Size([60, 1])"
      ]
     },
     "execution_count": 24,
     "metadata": {},
     "output_type": "execute_result"
    }
   ],
   "source": [
    "# Create f(X) with slope of -3\r\n",
    "X = torch.arange(-3, 3, 0.1).view(-1, 1)  # tensor dimension up \r\n",
    "f = -3 * X\r\n",
    "f.shape"
   ]
  },
  {
   "cell_type": "code",
   "execution_count": 25,
   "metadata": {},
   "outputs": [
    {
     "data": {
      "image/png": "[encoded data removed]",
      "text/plain": [
       "<Figure size 432x288 with 1 Axes>"
      ]
     },
     "metadata": {
      "needs_background": "light"
     },
     "output_type": "display_data"
    }
   ],
   "source": [
    "# Plot the line\r\n",
    "plt.plot(X.numpy(), f.numpy(), label = 'f')\r\n",
    "plt.xlabel('x')\r\n",
    "plt.ylabel('y')\r\n",
    "plt.legend()\r\n",
    "plt.show()"
   ]
  },
  {
   "cell_type": "code",
   "execution_count": 26,
   "metadata": {},
   "outputs": [],
   "source": [
    "# Add some noise to the data\r\n",
    "Y = f + 0.1 * torch.randn(X.size())"
   ]
  },
  {
   "cell_type": "code",
   "execution_count": 27,
   "metadata": {},
   "outputs": [
    {
     "data": {
      "image/png": "[encoded data removed]",
      "text/plain": [
       "<Figure size 432x288 with 1 Axes>"
      ]
     },
     "metadata": {
      "needs_background": "light"
     },
     "output_type": "display_data"
    }
   ],
   "source": [
    "# Plot the data points\r\n",
    "\r\n",
    "plt.plot(X.numpy(), Y.numpy(), 'rx', label = 'Y')\r\n",
    "\r\n",
    "plt.plot(X.numpy(), f.numpy(), label = 'f')\r\n",
    "plt.xlabel('x')\r\n",
    "plt.ylabel('y')\r\n",
    "plt.legend()\r\n",
    "plt.show()"
   ]
  },
  {
   "cell_type": "markdown",
   "metadata": {},
   "source": [
    "# Create the Model and Cost Function (Total Loss)"
   ]
  },
  {
   "cell_type": "code",
   "execution_count": 28,
   "metadata": {},
   "outputs": [],
   "source": [
    "# Create forward function for prediction\r\n",
    "def forward(x):\r\n",
    "    return w*x"
   ]
  },
  {
   "cell_type": "code",
   "execution_count": 29,
   "metadata": {},
   "outputs": [],
   "source": [
    "# Create the mean square error function\r\n",
    "def criterion(yhat, y):\r\n",
    "    return torch.mean((yhat-y)**2)"
   ]
  },
  {
   "cell_type": "code",
   "execution_count": 30,
   "metadata": {},
   "outputs": [],
   "source": [
    "# Define the learning rate\r\n",
    "lr = 0.1\r\n",
    "LOSS = []"
   ]
  },
  {
   "cell_type": "code",
   "execution_count": 12,
   "metadata": {},
   "outputs": [],
   "source": [
    "w = torch.tensor(-10.0, requires_grad = True)"
   ]
  },
  {
   "cell_type": "code",
   "execution_count": 31,
   "metadata": {},
   "outputs": [],
   "source": [
    "gradient_plot = plot_diagram(X, Y, w, stop = 5)"
   ]
  },
  {
   "cell_type": "markdown",
   "metadata": {},
   "source": [
    "# Train the model"
   ]
  },
  {
   "cell_type": "code",
   "execution_count": 34,
   "metadata": {},
   "outputs": [],
   "source": [
    "# Define a function to train\r\n",
    "def train_model(iter):\r\n",
    "    for epoch in range(iter):\r\n",
    "        # make prediction\r\n",
    "        Yhat = forward(X)\r\n",
    "\r\n",
    "        # Calculate loss\r\n",
    "        loss = criterion(Yhat, Y)\r\n",
    "\r\n",
    "        # Plot the diagram\r\n",
    "       # gradient_plot(Yhat, w, loss.item(), epoch)\r\n",
    "\r\n",
    "        # Store the loss to list\r\n",
    "        LOSS.append(loss.item())\r\n",
    "\r\n",
    "        # compute gradient of the loss with respect to all the learnable parameters\r\n",
    "        loss.backward()\r\n",
    "\r\n",
    "        # Update parameters\r\n",
    "        w.data = w.data - lr * w.grad.data\r\n",
    "\r\n",
    "        # zero the gradient\r\n",
    "        w.grad.data.zero_()"
   ]
  },
  {
   "cell_type": "code",
   "execution_count": 35,
   "metadata": {},
   "outputs": [],
   "source": [
    "# Run 4 iterations\r\n",
    "train_model(4)"
   ]
  },
  {
   "cell_type": "code",
   "execution_count": 36,
   "metadata": {},
   "outputs": [
    {
     "data": {
      "text/plain": [
       "Text(23.875, 0.5, 'Cost')"
      ]
     },
     "execution_count": 36,
     "metadata": {},
     "output_type": "execute_result"
    },
    {
     "data": {
      "image/png": "[encoded data removed]",
      "text/plain": [
       "<Figure size 432x288 with 1 Axes>"
      ]
     },
     "metadata": {
      "needs_background": "light"
     },
     "output_type": "display_data"
    }
   ],
   "source": [
    "plt.plot(LOSS)\r\n",
    "plt.tight_layout()\r\n",
    "plt.xlabel(\"Epoch/Iterations\")\r\n",
    "plt.ylabel(\"Cost\")"
   ]
  },
  {
   "cell_type": "code",
   "execution_count": null,
   "metadata": {},
   "outputs": [],
   "source": []
  }
 ],
 "metadata": {
  "interpreter": {
   "hash": "c0f70214c0dd213f07f54ee5d6e0ea644bdbba35113c9bfe8aaa0d1db03ad5dd"
  },
  "kernelspec": {
   "display_name": "Python 3.8.8 64-bit ('base': conda)",
   "name": "python3"
  },
  "language_info": {
   "codemirror_mode": {
    "name": "ipython",
    "version": 3
   },
   "file_extension": ".py",
   "mimetype": "text/x-python",
   "name": "python",
   "nbconvert_exporter": "python",
   "pygments_lexer": "ipython3",
   "version": "3.8.8"
  },
  "orig_nbformat": 4
 },
 "nbformat": 4,
 "nbformat_minor": 2
}