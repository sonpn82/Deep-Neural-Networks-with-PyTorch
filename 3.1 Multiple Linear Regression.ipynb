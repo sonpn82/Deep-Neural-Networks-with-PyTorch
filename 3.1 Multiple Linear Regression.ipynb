{
    "cells": [
        {
            "cell_type": "markdown",
            "source": [
                "# IBM Developer Skills Network"
            ],
            "metadata": {}
        },
        {
            "cell_type": "markdown",
            "source": [
                "# Multiple Linear Regression"
            ],
            "metadata": {}
        },
        {
            "cell_type": "code",
            "execution_count": 1,
            "source": [
                "import torch\r\n",
                "from torch import nn\r\n",
                "torch.manual_seed(1) # force random to give out same value everytime"
            ],
            "outputs": [
                {
                    "output_type": "execute_result",
                    "data": {
                        "text/plain": [
                            "<torch._C.Generator at 0x7a0c810>"
                        ]
                    },
                    "metadata": {},
                    "execution_count": 1
                }
            ],
            "metadata": {}
        },
        {
            "cell_type": "markdown",
            "source": [
                "# Prediction"
            ],
            "metadata": {}
        },
        {
            "cell_type": "code",
            "execution_count": 5,
            "source": [
                "# Set the weight and bias\r\n",
                "w = torch.tensor([[2.0], [3.0]], requires_grad=True)\r\n",
                "b = torch.tensor([[1.0]], requires_grad=True)"
            ],
            "outputs": [],
            "metadata": {}
        },
        {
            "cell_type": "code",
            "execution_count": 6,
            "source": [
                "# Define the prediction function\r\n",
                "def forward(x):\r\n",
                "    yhat = torch.mm(x, w) + b  # matrix dot product between x and w\r\n",
                "    return yhat"
            ],
            "outputs": [],
            "metadata": {}
        },
        {
            "cell_type": "code",
            "execution_count": 7,
            "source": [
                "# calculate yhat\r\n",
                "\r\n",
                "x = torch.tensor([[1.0, 2.0]])\r\n",
                "yhat = forward(x)\r\n",
                "print(\"The result: \", yhat)"
            ],
            "outputs": [
                {
                    "output_type": "stream",
                    "name": "stdout",
                    "text": [
                        "The result:  tensor([[9.]], grad_fn=<AddBackward0>)\n"
                    ]
                }
            ],
            "metadata": {}
        },
        {
            "cell_type": "markdown",
            "source": [
                "# Multiple x samples"
            ],
            "metadata": {}
        },
        {
            "cell_type": "code",
            "execution_count": 8,
            "source": [
                "X = torch.tensor([[1.0, 1.0], [1.0, 2.0], [1.0, 3.0]])\r\n",
                "yhat = forward(X)\r\n",
                "print('yhat=',yhat)"
            ],
            "outputs": [
                {
                    "output_type": "stream",
                    "name": "stdout",
                    "text": [
                        "yhat= tensor([[ 6.],\n",
                        "        [ 9.],\n",
                        "        [12.]], grad_fn=<AddBackward0>)\n"
                    ]
                }
            ],
            "metadata": {}
        },
        {
            "cell_type": "markdown",
            "source": [
                "# CLass Linear"
            ],
            "metadata": {}
        },
        {
            "cell_type": "code",
            "execution_count": 9,
            "source": [
                "# Create a linear model\r\n",
                "model = nn.Linear(2, 1)  # w and b are randomly generated"
            ],
            "outputs": [],
            "metadata": {}
        },
        {
            "cell_type": "code",
            "execution_count": 10,
            "source": [
                "# Make a prediction of x\r\n",
                "yhat = model(X)\r\n",
                "print('The result is ', yhat)"
            ],
            "outputs": [
                {
                    "output_type": "stream",
                    "name": "stdout",
                    "text": [
                        "The result is  tensor([[-0.0848],\n",
                        "        [-0.3969],\n",
                        "        [-0.7090]], grad_fn=<AddmmBackward>)\n"
                    ]
                }
            ],
            "metadata": {}
        },
        {
            "cell_type": "markdown",
            "source": [
                "# Build Custom Modules"
            ],
            "metadata": {}
        },
        {
            "cell_type": "code",
            "execution_count": 11,
            "source": [
                "# Create linear regression class\r\n",
                "\r\n",
                "class linear_regression(nn.Module):\r\n",
                "    # Constructor\r\n",
                "    def __init__(self, input_size, output_size):\r\n",
                "        super(linear_regression, self).__init__()\r\n",
                "        self.linear = nn.Linear(input_size, output_size)\r\n",
                "\r\n",
                "    # Prediction\r\n",
                "    def forward(self, x):\r\n",
                "        yhat = self.linear(x)\r\n",
                "        return yhat"
            ],
            "outputs": [],
            "metadata": {}
        },
        {
            "cell_type": "code",
            "execution_count": 12,
            "source": [
                "# build an object\r\n",
                "model = linear_regression(2, 1)  # 2 input 1 output"
            ],
            "outputs": [],
            "metadata": {}
        },
        {
            "cell_type": "code",
            "execution_count": 13,
            "source": [
                "# print the parameters\r\n",
                "print('parameters are ', list(model.parameters()))"
            ],
            "outputs": [
                {
                    "output_type": "stream",
                    "name": "stdout",
                    "text": [
                        "parameters are  [Parameter containing:\n",
                        "tensor([[ 0.3319, -0.6657]], requires_grad=True), Parameter containing:\n",
                        "tensor([0.4241], requires_grad=True)]\n"
                    ]
                }
            ],
            "metadata": {}
        },
        {
            "cell_type": "markdown",
            "source": [
                "w1 = 0.3319, w2 = -0.6657, b = 0.4241"
            ],
            "metadata": {}
        },
        {
            "cell_type": "code",
            "execution_count": 14,
            "source": [
                "# using state_dict\r\n",
                "model.state_dict()"
            ],
            "outputs": [
                {
                    "output_type": "execute_result",
                    "data": {
                        "text/plain": [
                            "OrderedDict([('linear.weight', tensor([[ 0.3319, -0.6657]])),\n",
                            "             ('linear.bias', tensor([0.4241]))])"
                        ]
                    },
                    "metadata": {},
                    "execution_count": 14
                }
            ],
            "metadata": {}
        },
        {
            "cell_type": "code",
            "execution_count": 15,
            "source": [
                "# Make a prediction\r\n",
                "yhat = model(x)\r\n",
                "print('yhat=', yhat)"
            ],
            "outputs": [
                {
                    "output_type": "stream",
                    "name": "stdout",
                    "text": [
                        "yhat= tensor([[-0.5754]], grad_fn=<AddmmBackward>)\n"
                    ]
                }
            ],
            "metadata": {}
        },
        {
            "cell_type": "code",
            "execution_count": 16,
            "source": [
                "yhat = model(X)\r\n",
                "print('yhat=', yhat)"
            ],
            "outputs": [
                {
                    "output_type": "stream",
                    "name": "stdout",
                    "text": [
                        "yhat= tensor([[ 0.0903],\n",
                        "        [-0.5754],\n",
                        "        [-1.2411]], grad_fn=<AddmmBackward>)\n"
                    ]
                }
            ],
            "metadata": {}
        },
        {
            "cell_type": "code",
            "execution_count": 17,
            "source": [
                "# Practice\r\n",
                "X = torch.tensor([[11.0, 12.0, 13, 14], [11, 12, 13, 14]])"
            ],
            "outputs": [],
            "metadata": {}
        },
        {
            "cell_type": "code",
            "execution_count": 18,
            "source": [
                "# build an object\r\n",
                "model = linear_regression(4, 1)  # 4 input 1 output"
            ],
            "outputs": [],
            "metadata": {}
        },
        {
            "cell_type": "code",
            "execution_count": 19,
            "source": [
                "yhat = model(X)"
            ],
            "outputs": [],
            "metadata": {}
        },
        {
            "cell_type": "code",
            "execution_count": 20,
            "source": [
                "yhat"
            ],
            "outputs": [
                {
                    "output_type": "execute_result",
                    "data": {
                        "text/plain": [
                            "tensor([[2.1062],\n",
                            "        [2.1062]], grad_fn=<AddmmBackward>)"
                        ]
                    },
                    "metadata": {},
                    "execution_count": 20
                }
            ],
            "metadata": {}
        },
        {
            "cell_type": "code",
            "execution_count": null,
            "source": [],
            "outputs": [],
            "metadata": {}
        }
    ],
    "metadata": {
        "orig_nbformat": 4,
        "language_info": {
            "name": "python"
        }
    },
    "nbformat": 4,
    "nbformat_minor": 2
}