{
    "cells": [
        {
            "cell_type": "markdown",
            "source": [
                "# IBM Developer Skills Network"
            ],
            "metadata": {}
        },
        {
            "cell_type": "markdown",
            "source": [
                "# Deep neural network Sigmoid Tanh and Relu with MNIST dataset"
            ],
            "metadata": {}
        },
        {
            "cell_type": "code",
            "execution_count": 1,
            "source": [
                "import torch\r\n",
                "import torch.nn as nn\r\n",
                "import torchvision.transforms as transforms\r\n",
                "import torchvision.datasets as dsets\r\n",
                "import torch.nn.functional as F\r\n",
                "import matplotlib.pylab as plt\r\n",
                "import numpy as np\r\n",
                "\r\n",
                "torch.manual_seed(2)"
            ],
            "outputs": [
                {
                    "output_type": "execute_result",
                    "data": {
                        "text/plain": [
                            "<torch._C.Generator at 0x65c69b0>"
                        ]
                    },
                    "metadata": {},
                    "execution_count": 1
                }
            ],
            "metadata": {}
        },
        {
            "cell_type": "markdown",
            "source": [
                "# Neural network module and training"
            ],
            "metadata": {}
        },
        {
            "cell_type": "code",
            "execution_count": 2,
            "source": [
                "# Sigmoid with 2 hidden layers\r\n",
                "\r\n",
                "class Net(nn.Module):\r\n",
                "\r\n",
                "    # Constructor\r\n",
                "    def __init__(self, D_in, H1, H2, D_out):\r\n",
                "        super(Net, self).__init__()\r\n",
                "        self.linear1 = nn.Linear(D_in, H1)\r\n",
                "        self.linear2 = nn.Linear(H1, H2)\r\n",
                "        self.linear3 = nn.Linear(H2, D_out)\r\n",
                "\r\n",
                "    # Prediction\r\n",
                "    def forward(self, x):\r\n",
                "        x = torch.sigmoid(self.linear1(x))\r\n",
                "        x = torch.sigmoid(self.linear2(x))\r\n",
                "        x = self.linear3(x)\r\n",
                "        return x"
            ],
            "outputs": [],
            "metadata": {}
        },
        {
            "cell_type": "code",
            "execution_count": 4,
            "source": [
                "# model with Tanh\r\n",
                "\r\n",
                "class NetTanh(nn.Module):\r\n",
                "\r\n",
                "    # Constructor\r\n",
                "    def __init__(self, D_in, H1, H2, D_out):\r\n",
                "        super(NetTanh, self).__init__()\r\n",
                "        self.linear1 = nn.Linear(D_in, H1)\r\n",
                "        self.linear2 = nn.Linear(H1, H2)\r\n",
                "        self.linear3 = nn.Linear(H2, D_out)\r\n",
                "\r\n",
                "    # Prediction\r\n",
                "    def forward(self, x):\r\n",
                "        x = torch.tanh(self.linear1(x))\r\n",
                "        x = torch.tanh(self.linear2(x))\r\n",
                "        x = self.linear3(x)\r\n",
                "        return x"
            ],
            "outputs": [],
            "metadata": {}
        },
        {
            "cell_type": "code",
            "execution_count": 5,
            "source": [
                "# Create the model class using Relu as a activation function\r\n",
                "\r\n",
                "class NetRelu(nn.Module):\r\n",
                "    \r\n",
                "    # Constructor\r\n",
                "    def __init__(self, D_in, H1, H2, D_out):\r\n",
                "        super(NetRelu, self).__init__()\r\n",
                "        self.linear1 = nn.Linear(D_in, H1)\r\n",
                "        self.linear2 = nn.Linear(H1, H2)\r\n",
                "        self.linear3 = nn.Linear(H2, D_out)\r\n",
                "    \r\n",
                "    # Prediction\r\n",
                "    def forward(self, x):\r\n",
                "        x = torch.relu(self.linear1(x))  \r\n",
                "        x = torch.relu(self.linear2(x))\r\n",
                "        x = self.linear3(x)\r\n",
                "        return x"
            ],
            "outputs": [],
            "metadata": {}
        },
        {
            "cell_type": "code",
            "execution_count": 6,
            "source": [
                "# Train the model\r\n",
                "\r\n",
                "def train(model, criterion, train_loader, validation_loader, optimizer, epochs=100):\r\n",
                "    i=0\r\n",
                "    useful_stuff = {'training_loss': [], 'validation_accuracy': []}\r\n",
                "\r\n",
                "    for epoch in range(epochs):\r\n",
                "        for i, (x, y) in enumerate(train_loader):\r\n",
                "            optimizer.zero_grad()\r\n",
                "            z = model(x.view(-1, 28*28))\r\n",
                "            loss = criterion(z, y)\r\n",
                "            loss.backward()\r\n",
                "            optimizer.step()\r\n",
                "            useful_stuff['training_loss'].append(loss.data.item())\r\n",
                "        \r\n",
                "        correct = 0\r\n",
                "        for x, y in validation_loader:\r\n",
                "            z = model(x.view(-1, 28*28))\r\n",
                "            _, label = torch.max(z, 1)\r\n",
                "            correct += (label==y).sum().item()\r\n",
                "\r\n",
                "        accuracy = 100 * (correct / len(validation_dataset))\r\n",
                "        useful_stuff['validation_accuracy'].append(accuracy)\r\n",
                "\r\n",
                "    return useful_stuff"
            ],
            "outputs": [],
            "metadata": {}
        },
        {
            "cell_type": "markdown",
            "source": [
                "# Get the data"
            ],
            "metadata": {}
        },
        {
            "cell_type": "code",
            "execution_count": 7,
            "source": [
                "# Create the training dataset\r\n",
                "\r\n",
                "train_dataset = dsets.MNIST(root='./data', train=True, download=True, transform=transforms.ToTensor())"
            ],
            "outputs": [],
            "metadata": {}
        },
        {
            "cell_type": "code",
            "execution_count": 8,
            "source": [
                "# Create the validating dataset\r\n",
                "\r\n",
                "validation_dataset = dsets.MNIST(root='./data', train=False, download=True, transform=transforms.ToTensor())"
            ],
            "outputs": [],
            "metadata": {}
        },
        {
            "cell_type": "code",
            "execution_count": 9,
            "source": [
                "# Criterion function\r\n",
                "criterion = nn.CrossEntropyLoss()"
            ],
            "outputs": [],
            "metadata": {}
        },
        {
            "cell_type": "code",
            "execution_count": 12,
            "source": [
                "# loader\r\n",
                "train_loader = torch.utils.data.DataLoader(dataset=train_dataset, batch_size=2000, shuffle=True)\r\n",
                "validation_loader = torch.utils.data.DataLoader(dataset=validation_dataset, batch_size=5000,shuffle=False)"
            ],
            "outputs": [],
            "metadata": {}
        },
        {
            "cell_type": "markdown",
            "source": [
                "# Define the network, criterion, optimizer and train"
            ],
            "metadata": {}
        },
        {
            "cell_type": "code",
            "execution_count": 13,
            "source": [
                "# Set the momdel with 100 hidden neuron in 2 layers\r\n",
                "\r\n",
                "input_dim = 28*28\r\n",
                "hidden_dim1 = 50\r\n",
                "hidden_dim2 = 50\r\n",
                "output_dim = 10"
            ],
            "outputs": [],
            "metadata": {}
        },
        {
            "cell_type": "code",
            "execution_count": 14,
            "source": [
                "# number of iteration\r\n",
                "cust_epochs = 10"
            ],
            "outputs": [],
            "metadata": {}
        },
        {
            "cell_type": "code",
            "execution_count": 15,
            "source": [
                "# Train the model with sigmoid function\r\n",
                "\r\n",
                "learning_rate = 0.01\r\n",
                "model = Net(input_dim, hidden_dim1, hidden_dim2, output_dim)\r\n",
                "optimizer = torch.optim.SGD(model.parameters(), lr=learning_rate)\r\n",
                "training_results = train(model, criterion, train_loader, validation_loader, optimizer, epochs=cust_epochs)"
            ],
            "outputs": [],
            "metadata": {}
        },
        {
            "cell_type": "code",
            "execution_count": 16,
            "source": [
                "# Train the model with tanh function\r\n",
                "\r\n",
                "learning_rate = 0.01\r\n",
                "model_Tanh = NetTanh(input_dim, hidden_dim1, hidden_dim2, output_dim)\r\n",
                "optimizer = torch.optim.SGD(model_Tanh.parameters(), lr=learning_rate)\r\n",
                "training_results_tanch = train(model_Tanh, criterion, train_loader, validation_loader, optimizer, epochs=cust_epochs)"
            ],
            "outputs": [],
            "metadata": {}
        },
        {
            "cell_type": "code",
            "execution_count": 17,
            "source": [
                "# Train the model with relu function\r\n",
                "\r\n",
                "learning_rate = 0.01\r\n",
                "modelRelu = NetRelu(input_dim, hidden_dim1, hidden_dim2, output_dim)\r\n",
                "optimizer = torch.optim.SGD(modelRelu.parameters(), lr=learning_rate)\r\n",
                "training_results_relu = train(modelRelu, criterion, train_loader, validation_loader, optimizer, epochs=cust_epochs)"
            ],
            "outputs": [],
            "metadata": {}
        },
        {
            "cell_type": "markdown",
            "source": [
                "# Analyze the results"
            ],
            "metadata": {}
        },
        {
            "cell_type": "code",
            "execution_count": 18,
            "source": [
                "# Compare the training loss\r\n",
                "\r\n",
                "plt.plot(training_results_tanch['training_loss'], label='tanh')\r\n",
                "plt.plot(training_results['training_loss'], label='sigmoid')\r\n",
                "plt.plot(training_results_relu['training_loss'], label='relu')\r\n",
                "plt.ylabel('loss')\r\n",
                "plt.title('training loss iterations')\r\n",
                "plt.legend()\r\n"
            ],
            "outputs": [
                {
                    "output_type": "execute_result",
                    "data": {
                        "text/plain": [
                            "<matplotlib.legend.Legend at 0x2dbfcd00>"
                        ]
                    },
                    "metadata": {},
                    "execution_count": 18
                },
                {
                    "output_type": "display_data",
                    "data": {
                        "text/plain": [
                            "<Figure size 432x288 with 1 Axes>"
                        ],
                        "image/png": "[encoded data removed]"
                    },
                    "metadata": {
                        "needs_background": "light"
                    }
                }
            ],
            "metadata": {}
        },
        {
            "cell_type": "code",
            "execution_count": 19,
            "source": [
                "# Compare the validation loss\r\n",
                "\r\n",
                "plt.plot(training_results_tanch['validation_accuracy'], label = 'tanh')\r\n",
                "plt.plot(training_results['validation_accuracy'], label = 'sigmoid')\r\n",
                "plt.plot(training_results_relu['validation_accuracy'], label = 'relu') \r\n",
                "plt.ylabel('validation accuracy')\r\n",
                "plt.xlabel('Iteration')   \r\n",
                "plt.legend()"
            ],
            "outputs": [
                {
                    "output_type": "execute_result",
                    "data": {
                        "text/plain": [
                            "<matplotlib.legend.Legend at 0x2eea8520>"
                        ]
                    },
                    "metadata": {},
                    "execution_count": 19
                },
                {
                    "output_type": "display_data",
                    "data": {
                        "text/plain": [
                            "<Figure size 432x288 with 1 Axes>"
                        ],
                        "image/png": "[encoded data removed]"
                    },
                    "metadata": {
                        "needs_background": "light"
                    }
                }
            ],
            "metadata": {}
        },
        {
            "cell_type": "code",
            "execution_count": null,
            "source": [],
            "outputs": [],
            "metadata": {}
        }
    ],
    "metadata": {
        "orig_nbformat": 4,
        "language_info": {
            "name": "python"
        }
    },
    "nbformat": 4,
    "nbformat_minor": 2
}