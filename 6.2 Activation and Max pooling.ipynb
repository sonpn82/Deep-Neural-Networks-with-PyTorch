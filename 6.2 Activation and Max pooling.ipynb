{
    "cells": [
        {
            "cell_type": "markdown",
            "source": [
                "# IBM Developer Skills Network"
            ],
            "metadata": {}
        },
        {
            "cell_type": "markdown",
            "source": [
                "# Activation and Max pooling"
            ],
            "metadata": {}
        },
        {
            "cell_type": "code",
            "execution_count": 1,
            "source": [
                "import torch\r\n",
                "import torch.nn as nn\r\n",
                "import matplotlib.pyplot as plt\r\n",
                "import numpy as np\r\n",
                "from scipy import ndimage, misc"
            ],
            "outputs": [],
            "metadata": {}
        },
        {
            "cell_type": "markdown",
            "source": [
                "# Activation Function"
            ],
            "metadata": {}
        },
        {
            "cell_type": "code",
            "execution_count": 2,
            "source": [
                "# Create a kernel and image\r\n",
                "conv = nn.Conv2d(in_channels=1, out_channels=1, kernel_size=3)\r\n",
                "\r\n",
                "# image\r\n",
                "Gx=torch.tensor([[1.0,0,-1.0],[2.0,0,-2.0],[1.0,0,-1.0]])\r\n",
                "conv.state_dict()['weight'][0][0]=Gx\r\n",
                "conv.state_dict()['bias'][0]=0.0\r\n",
                "conv.state_dict()"
            ],
            "outputs": [
                {
                    "output_type": "execute_result",
                    "data": {
                        "text/plain": [
                            "OrderedDict([('weight',\n",
                            "              tensor([[[[ 1.,  0., -1.],\n",
                            "                        [ 2.,  0., -2.],\n",
                            "                        [ 1.,  0., -1.]]]])),\n",
                            "             ('bias', tensor([0.]))])"
                        ]
                    },
                    "metadata": {},
                    "execution_count": 2
                }
            ],
            "metadata": {}
        },
        {
            "cell_type": "code",
            "execution_count": 3,
            "source": [
                "image = torch.zeros(1,1,5,5)\r\n",
                "image[0, 0, :, 2]=1\r\n",
                "image"
            ],
            "outputs": [
                {
                    "output_type": "execute_result",
                    "data": {
                        "text/plain": [
                            "tensor([[[[0., 0., 1., 0., 0.],\n",
                            "          [0., 0., 1., 0., 0.],\n",
                            "          [0., 0., 1., 0., 0.],\n",
                            "          [0., 0., 1., 0., 0.],\n",
                            "          [0., 0., 1., 0., 0.]]]])"
                        ]
                    },
                    "metadata": {},
                    "execution_count": 3
                }
            ],
            "metadata": {}
        },
        {
            "cell_type": "code",
            "execution_count": 4,
            "source": [
                "Z = conv(image)\r\n",
                "Z\r\n"
            ],
            "outputs": [
                {
                    "output_type": "execute_result",
                    "data": {
                        "text/plain": [
                            "tensor([[[[-4.,  0.,  4.],\n",
                            "          [-4.,  0.,  4.],\n",
                            "          [-4.,  0.,  4.]]]], grad_fn=<ThnnConv2DBackward>)"
                        ]
                    },
                    "metadata": {},
                    "execution_count": 4
                }
            ],
            "metadata": {}
        },
        {
            "cell_type": "code",
            "execution_count": 5,
            "source": [
                "# Activation function\r\n",
                "A = torch.relu(Z)\r\n",
                "A"
            ],
            "outputs": [
                {
                    "output_type": "execute_result",
                    "data": {
                        "text/plain": [
                            "tensor([[[[0., 0., 4.],\n",
                            "          [0., 0., 4.],\n",
                            "          [0., 0., 4.]]]], grad_fn=<ReluBackward0>)"
                        ]
                    },
                    "metadata": {},
                    "execution_count": 5
                }
            ],
            "metadata": {}
        },
        {
            "cell_type": "code",
            "execution_count": 6,
            "source": [
                "relu = nn.ReLU()\r\n",
                "relu(Z)"
            ],
            "outputs": [
                {
                    "output_type": "execute_result",
                    "data": {
                        "text/plain": [
                            "tensor([[[[0., 0., 4.],\n",
                            "          [0., 0., 4.],\n",
                            "          [0., 0., 4.]]]], grad_fn=<ReluBackward0>)"
                        ]
                    },
                    "metadata": {},
                    "execution_count": 6
                }
            ],
            "metadata": {}
        },
        {
            "cell_type": "markdown",
            "source": [
                "# Max Pooling"
            ],
            "metadata": {}
        },
        {
            "cell_type": "code",
            "execution_count": 7,
            "source": [
                "image1=torch.zeros(1,1,4,4)\r\n",
                "image1[0,0,0,:]=torch.tensor([1.0,2.0,3.0,-4.0])\r\n",
                "image1[0,0,1,:]=torch.tensor([0.0,2.0,-3.0,0.0])\r\n",
                "image1[0,0,2,:]=torch.tensor([0.0,2.0,3.0,1.0])\r\n",
                "\r\n",
                "image1"
            ],
            "outputs": [
                {
                    "output_type": "execute_result",
                    "data": {
                        "text/plain": [
                            "tensor([[[[ 1.,  2.,  3., -4.],\n",
                            "          [ 0.,  2., -3.,  0.],\n",
                            "          [ 0.,  2.,  3.,  1.],\n",
                            "          [ 0.,  0.,  0.,  0.]]]])"
                        ]
                    },
                    "metadata": {},
                    "execution_count": 7
                }
            ],
            "metadata": {}
        },
        {
            "cell_type": "markdown",
            "source": [
                "Max pooling simply takes the maximum value in each region."
            ],
            "metadata": {}
        },
        {
            "cell_type": "code",
            "execution_count": 8,
            "source": [
                "# Create maxpooling object\r\n",
                "max1 = torch.nn.MaxPool2d(2, stride=1)\r\n",
                "max1(image1)"
            ],
            "outputs": [
                {
                    "output_type": "execute_result",
                    "data": {
                        "text/plain": [
                            "tensor([[[[2., 3., 3.],\n",
                            "          [2., 3., 3.],\n",
                            "          [2., 3., 3.]]]])"
                        ]
                    },
                    "metadata": {},
                    "execution_count": 8
                }
            ],
            "metadata": {}
        },
        {
            "cell_type": "code",
            "execution_count": 9,
            "source": [
                "# code in pytorch\r\n",
                "max1 = torch.nn.MaxPool2d(2)\r\n",
                "max1(image1)"
            ],
            "outputs": [
                {
                    "output_type": "execute_result",
                    "data": {
                        "text/plain": [
                            "tensor([[[[2., 3.],\n",
                            "          [2., 3.]]]])"
                        ]
                    },
                    "metadata": {},
                    "execution_count": 9
                }
            ],
            "metadata": {}
        },
        {
            "cell_type": "code",
            "execution_count": null,
            "source": [],
            "outputs": [],
            "metadata": {}
        }
    ],
    "metadata": {
        "orig_nbformat": 4,
        "language_info": {
            "name": "python"
        }
    },
    "nbformat": 4,
    "nbformat_minor": 2
}