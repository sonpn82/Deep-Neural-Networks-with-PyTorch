{
    "cells": [
        {
            "cell_type": "markdown",
            "source": [
                "# IBM Developer Skills Network"
            ],
            "metadata": {}
        },
        {
            "cell_type": "markdown",
            "source": [
                "# Convolutional Neural Network with Batch-Normalization"
            ],
            "metadata": {}
        },
        {
            "cell_type": "markdown",
            "source": [
                "Like a fully connected network, we create a <code>BatchNorm2d</code> object, but we apply it to the 2D convolution object. First, we create objects <code>Conv2d</code> object; we require the number of output channels, specified by the variable <code>OUT</code>.  \r\n"
            ],
            "metadata": {}
        },
        {
            "cell_type": "markdown",
            "source": [
                "<code>self.cnn1 = nn.Conv2d(in_channels=1, out_channels=OUT, kernel_size=5, padding=2) </code>\r\n"
            ],
            "metadata": {}
        },
        {
            "cell_type": "markdown",
            "source": [
                "We then create a Batch Norm  object for 2D convolution as follows:"
            ],
            "metadata": {}
        },
        {
            "cell_type": "markdown",
            "source": [
                "<code>self.conv1_bn = nn.BatchNorm2d(OUT)</code>"
            ],
            "metadata": {}
        },
        {
            "cell_type": "markdown",
            "source": [
                "The parameter out is the number of channels in the output. We can then apply batch norm  after  the convolution operation :\r\n"
            ],
            "metadata": {}
        },
        {
            "cell_type": "markdown",
            "source": [
                "<code>x = self.cnn1(x)</code>\r\n",
                "\r\n",
                "<p></p>\r\n",
                " <code> x=self.conv1_bn(x)</code>"
            ],
            "metadata": {}
        },
        {
            "cell_type": "code",
            "execution_count": 1,
            "source": [
                "import torch\r\n",
                "import torch.nn as nn\r\n",
                "import torchvision.transforms as transforms\r\n",
                "import torchvision.datasets as dsets\r\n",
                "import matplotlib.pylab as plt\r\n",
                "import numpy as np\r\n"
            ],
            "outputs": [],
            "metadata": {}
        },
        {
            "cell_type": "code",
            "execution_count": 2,
            "source": [
                "def show_data(data_sample):\r\n",
                "    plt.imshow(data_sample[0].numpy().reshape(IMAGE_SIZE, IMAGE_SIZE), cmap='gray')\r\n",
                "    plt.title('y = '+ str(data_sample[1]))"
            ],
            "outputs": [],
            "metadata": {}
        },
        {
            "cell_type": "markdown",
            "source": [
                "# Get the Data"
            ],
            "metadata": {}
        },
        {
            "cell_type": "code",
            "execution_count": 3,
            "source": [
                "IMAGE_SIZE = 16\r\n",
                "composed = transforms.Compose([transforms.Resize((IMAGE_SIZE, IMAGE_SIZE)), transforms.ToTensor()])"
            ],
            "outputs": [],
            "metadata": {}
        },
        {
            "cell_type": "code",
            "execution_count": 4,
            "source": [
                "train_dataset = dsets.MNIST(root='./data', train=True, download=True, transform=composed)\r\n",
                "validation_dataset = dsets.MNIST(root='./data', train=False, download=True, transform=composed)"
            ],
            "outputs": [],
            "metadata": {}
        },
        {
            "cell_type": "code",
            "execution_count": 5,
            "source": [
                "# Show the data type for each element in dataset\r\n",
                "\r\n",
                "type(train_dataset[0][1])"
            ],
            "outputs": [
                {
                    "output_type": "execute_result",
                    "data": {
                        "text/plain": [
                            "int"
                        ]
                    },
                    "metadata": {},
                    "execution_count": 5
                }
            ],
            "metadata": {}
        },
        {
            "cell_type": "code",
            "execution_count": 6,
            "source": [
                "# The label for the fourth data element\r\n",
                "\r\n",
                "train_dataset[3][1]"
            ],
            "outputs": [
                {
                    "output_type": "execute_result",
                    "data": {
                        "text/plain": [
                            "1"
                        ]
                    },
                    "metadata": {},
                    "execution_count": 6
                }
            ],
            "metadata": {}
        },
        {
            "cell_type": "code",
            "execution_count": 7,
            "source": [
                "# The image for the fourth data element\r\n",
                "show_data(train_dataset[3])"
            ],
            "outputs": [
                {
                    "output_type": "display_data",
                    "data": {
                        "text/plain": [
                            "<Figure size 432x288 with 1 Axes>"
                        ],
                        "image/png": "[encoded data removed]"
                    },
                    "metadata": {
                        "needs_background": "light"
                    }
                }
            ],
            "metadata": {}
        },
        {
            "cell_type": "markdown",
            "source": [
                "# Build a Two Convolutional Neural Network Class"
            ],
            "metadata": {}
        },
        {
            "cell_type": "code",
            "execution_count": 8,
            "source": [
                "class CNN(nn.Module):\r\n",
                "\r\n",
                "    # Constructor\r\n",
                "    def __init__(self, out_1=16, out_2=32):\r\n",
                "        super(CNN, self).__init__()\r\n",
                "        self.cnn1 = nn.Conv2d(in_channels=1, out_channels=out_1, kernel_size=5, padding=2)\r\n",
                "        self.maxpool1 = nn.MaxPool2d(kernel_size=2)\r\n",
                "\r\n",
                "        self.cnn2 = nn.Conv2d(in_channels=out_1, out_channels=out_2, kernel_size=5, stride=1, padding=2)\r\n",
                "        self.maxpool2 = nn.MaxPool2d(kernel_size=2)\r\n",
                "        self.fc1 = nn.Linear(out_2 * 4 * 4, 10)\r\n",
                "\r\n",
                "    # Prediction\r\n",
                "    def forward(self, x):\r\n",
                "        x = self.cnn1(x)\r\n",
                "        x = torch.relu(x)\r\n",
                "        x = self.maxpool1(x)\r\n",
                "\r\n",
                "        x = self.cnn2(x)\r\n",
                "        x = torch.relu(x)\r\n",
                "        x = self.maxpool2(x)\r\n",
                "\r\n",
                "        x = x.view(x.size(0), -1)\r\n",
                "        x = self.fc1(x)\r\n",
                "        return x"
            ],
            "outputs": [],
            "metadata": {}
        },
        {
            "cell_type": "code",
            "execution_count": 9,
            "source": [
                "# add a batch norm\r\n",
                "class CNN_batch(nn.Module):\r\n",
                "\r\n",
                "    # Constructor\r\n",
                "    def __init__(self, out_1=16, out_2=32, number_of_classes=10):\r\n",
                "        super (CNN_batch, self).__init__()\r\n",
                "        self.cnn1 = nn.Conv2d(in_channels=1, out_channels=out_1, kernel_size=5, padding=2)\r\n",
                "        self.conv1_bn = nn.BatchNorm2d(out_1)  \r\n",
                "        self.maxpool1 = nn.MaxPool2d(kernel_size=2)\r\n",
                "\r\n",
                "        self.cnn2 = nn.Conv2d(in_channels=out_1, out_channels=out_2,kernel_size=5, stride=1, padding=2)\r\n",
                "        self.conv2_bn = nn.BatchNorm2d(out_2)\r\n",
                "        self.maxpool2 = nn.MaxPool2d(kernel_size=2)\r\n",
                "\r\n",
                "        self.fc1 = nn.Linear(out_2 * 4 * 4, number_of_classes)\r\n",
                "        self.bn_fc1 = nn.BatchNorm1d(10)\r\n",
                "\r\n",
                "    # Prediction\r\n",
                "    def forward(self, x):\r\n",
                "        x = self.cnn1(x)\r\n",
                "        x = self.conv1_bn(x)  # batch normalization applied before activation function\r\n",
                "        x = torch.relu(x)\r\n",
                "        x = self.maxpool1(x)\r\n",
                "\r\n",
                "        x = self.cnn2(x)\r\n",
                "        x = self.conv2_bn(x)\r\n",
                "        x = torch.relu(x)\r\n",
                "        x = self.maxpool2(x)\r\n",
                "\r\n",
                "        x = x.view(x.size(0), -1)\r\n",
                "        x = self.fc1(x)\r\n",
                "        x = self.bn_fc1(x)\r\n",
                "\r\n",
                "        return x"
            ],
            "outputs": [],
            "metadata": {}
        },
        {
            "cell_type": "markdown",
            "source": [
                "# GPU setup"
            ],
            "metadata": {}
        },
        {
            "cell_type": "code",
            "execution_count": 10,
            "source": [
                "torch.cuda.is_available()"
            ],
            "outputs": [
                {
                    "output_type": "execute_result",
                    "data": {
                        "text/plain": [
                            "True"
                        ]
                    },
                    "metadata": {},
                    "execution_count": 10
                }
            ],
            "metadata": {}
        },
        {
            "cell_type": "code",
            "execution_count": 11,
            "source": [
                "device = torch.device('cuda:0')\r\n",
                "device"
            ],
            "outputs": [
                {
                    "output_type": "execute_result",
                    "data": {
                        "text/plain": [
                            "device(type='cuda', index=0)"
                        ]
                    },
                    "metadata": {},
                    "execution_count": 11
                }
            ],
            "metadata": {}
        },
        {
            "cell_type": "markdown",
            "source": [
                "# Train the model"
            ],
            "metadata": {}
        },
        {
            "cell_type": "code",
            "execution_count": 12,
            "source": [
                "def train_model(model, train_loader, validation_loader, optimizer, n_epochs=4):\r\n",
                "\r\n",
                "    N_test = len(validation_dataset)\r\n",
                "    accuracy_list = []\r\n",
                "    loss_list = []\r\n",
                "\r\n",
                "    for epoch in range(n_epochs):\r\n",
                "        for x, y in train_loader:\r\n",
                "            # sends features and labels to the GPU\r\n",
                "            x, y = x.to(device), y.to(device)\r\n",
                "\r\n",
                "            model.train()\r\n",
                "            optimizer.zero_grad()\r\n",
                "            z = model(x)\r\n",
                "            loss = criterion(z, y)\r\n",
                "            loss.backward()\r\n",
                "            optimizer.step()\r\n",
                "            loss_list.append(loss.data)\r\n",
                "\r\n",
                "        correct = 0\r\n",
                "        # validation data\r\n",
                "        for x_test, y_test in validation_loader:\r\n",
                "            # sends features and labels to the GPU\r\n",
                "            x_test, y_test = x_test.to(device), y_test.to(device)\r\n",
                "\r\n",
                "            model.eval()\r\n",
                "            z = model(x_test)\r\n",
                "            _, yhat = torch.max(z.data, 1)\r\n",
                "            correct += (yhat == y_test).sum().item()\r\n",
                "        \r\n",
                "        accuracy = correct / N_test\r\n",
                "        accuracy_list.append(accuracy)\r\n",
                "    \r\n",
                "    return accuracy_list, loss_list\r\n"
            ],
            "outputs": [],
            "metadata": {}
        },
        {
            "cell_type": "markdown",
            "source": [
                "# Define the network"
            ],
            "metadata": {}
        },
        {
            "cell_type": "code",
            "execution_count": 13,
            "source": [
                "model = CNN(out_1=16, out_2=32)\r\n",
                "model.to(device)"
            ],
            "outputs": [
                {
                    "output_type": "execute_result",
                    "data": {
                        "text/plain": [
                            "CNN(\n",
                            "  (cnn1): Conv2d(1, 16, kernel_size=(5, 5), stride=(1, 1), padding=(2, 2))\n",
                            "  (maxpool1): MaxPool2d(kernel_size=2, stride=2, padding=0, dilation=1, ceil_mode=False)\n",
                            "  (cnn2): Conv2d(16, 32, kernel_size=(5, 5), stride=(1, 1), padding=(2, 2))\n",
                            "  (maxpool2): MaxPool2d(kernel_size=2, stride=2, padding=0, dilation=1, ceil_mode=False)\n",
                            "  (fc1): Linear(in_features=512, out_features=10, bias=True)\n",
                            ")"
                        ]
                    },
                    "metadata": {},
                    "execution_count": 13
                }
            ],
            "metadata": {}
        },
        {
            "cell_type": "code",
            "execution_count": 14,
            "source": [
                "# Loss function\r\n",
                "criterion = nn.CrossEntropyLoss()\r\n",
                "learning_rate = 0.1\r\n",
                "optimizer = torch.optim.SGD(model.parameters(), lr = learning_rate)\r\n",
                "train_loader = torch.utils.data.DataLoader(dataset=train_dataset, batch_size=100)\r\n",
                "validation_loader = torch.utils.data.DataLoader(dataset=validation_dataset, batch_size=5000)"
            ],
            "outputs": [],
            "metadata": {}
        },
        {
            "cell_type": "code",
            "execution_count": 15,
            "source": [
                "# Train the model without batch norm\r\n",
                "accuracy_list_normal, loss_list_normal=train_model(model=model,n_epochs=10,train_loader=train_loader,validation_loader=validation_loader,optimizer=optimizer)"
            ],
            "outputs": [],
            "metadata": {}
        },
        {
            "cell_type": "code",
            "execution_count": 16,
            "source": [
                "# With batch norm\r\n",
                "model_batch = CNN_batch(out_1=16, out_2=32)\r\n",
                "model_batch.to(device)\r\n",
                "criterion = nn.CrossEntropyLoss()\r\n",
                "learning_rate = 0.1\r\n",
                "optimizer = torch.optim.SGD(model_batch.parameters(), lr=learning_rate)\r\n",
                "accuracy_list_batch, loss_list_batch=train_model(model=model_batch,n_epochs=10,train_loader=train_loader,validation_loader=validation_loader,optimizer=optimizer)"
            ],
            "outputs": [],
            "metadata": {}
        },
        {
            "cell_type": "markdown",
            "source": [
                "# Analyze results"
            ],
            "metadata": {}
        },
        {
            "cell_type": "code",
            "execution_count": 18,
            "source": [
                "# Plot the loss and accuracy\r\n",
                "\r\n",
                "loss_list_normal_cpu = []  # copy from device to host memory\r\n",
                "for ll in loss_list_normal:\r\n",
                "    loss_list_normal_cpu.append(ll.cpu())\r\n",
                "\r\n",
                "loss_list_batch_cpu = []  # copy from device to host memory\r\n",
                "for ll in loss_list_batch:\r\n",
                "    loss_list_batch_cpu.append(ll.cpu())\r\n",
                "\r\n",
                "plt.plot(loss_list_normal_cpu, 'b',label='loss normal cnn ')\r\n",
                "plt.plot(loss_list_batch_cpu,'r',label='loss batch cnn')\r\n",
                "plt.xlabel('iteration')\r\n",
                "plt.title(\"loss\")\r\n",
                "plt.legend()"
            ],
            "outputs": [
                {
                    "output_type": "execute_result",
                    "data": {
                        "text/plain": [
                            "<matplotlib.legend.Legend at 0x448cd700>"
                        ]
                    },
                    "metadata": {},
                    "execution_count": 18
                },
                {
                    "output_type": "display_data",
                    "data": {
                        "text/plain": [
                            "<Figure size 432x288 with 1 Axes>"
                        ],
                        "image/png": "[encoded data removed]"
                    },
                    "metadata": {
                        "needs_background": "light"
                    }
                }
            ],
            "metadata": {}
        },
        {
            "cell_type": "code",
            "execution_count": 20,
            "source": [
                "plt.plot(accuracy_list_normal, 'b',label=' normal CNN')\r\n",
                "plt.plot(accuracy_list_batch,'r',label=' CNN with Batch Norm')\r\n",
                "plt.xlabel('Epoch')\r\n",
                "plt.title(\"Accuracy \")\r\n",
                "plt.legend()\r\n",
                "plt.show()"
            ],
            "outputs": [
                {
                    "output_type": "display_data",
                    "data": {
                        "text/plain": [
                            "<Figure size 432x288 with 1 Axes>"
                        ],
                        "image/png": "[encoded data removed]"
                    },
                    "metadata": {
                        "needs_background": "light"
                    }
                }
            ],
            "metadata": {}
        },
        {
            "cell_type": "markdown",
            "source": [
                "We see the CNN with batch norm performers better, with faster convergence.\r\n"
            ],
            "metadata": {}
        }
    ],
    "metadata": {
        "orig_nbformat": 4,
        "language_info": {
            "name": "python"
        }
    },
    "nbformat": 4,
    "nbformat_minor": 2
}