{
    "cells": [
        {
            "cell_type": "markdown",
            "source": [
                "# IBM Developer Skills Network"
            ],
            "metadata": {}
        },
        {
            "cell_type": "markdown",
            "source": [
                "# Multiple Output Linear Regression"
            ],
            "metadata": {}
        },
        {
            "cell_type": "code",
            "execution_count": 1,
            "source": [
                "import torch\r\n",
                "from torch import nn\r\n",
                "torch.manual_seed(1)"
            ],
            "outputs": [
                {
                    "output_type": "execute_result",
                    "data": {
                        "text/plain": [
                            "<torch._C.Generator at 0x6141a10>"
                        ]
                    },
                    "metadata": {},
                    "execution_count": 1
                }
            ],
            "metadata": {}
        },
        {
            "cell_type": "code",
            "execution_count": 2,
            "source": [
                "# Custom class\r\n",
                "class linear_regression(nn.Module):\r\n",
                "    def __init__(self, input_size, output_size):\r\n",
                "        super(linear_regression, self).__init__()\r\n",
                "        self.linear = nn.Linear(input_size, output_size)\r\n",
                "    \r\n",
                "    def forward(self, x):\r\n",
                "        yhat = self.linear(x)\r\n",
                "        return yhat"
            ],
            "outputs": [],
            "metadata": {}
        },
        {
            "cell_type": "code",
            "execution_count": 3,
            "source": [
                "# Create a linear object\r\n",
                "model = linear_regression(1, 10)  # 1 input 10 output\r\n",
                "model(torch.tensor([1.0]))"
            ],
            "outputs": [
                {
                    "output_type": "execute_result",
                    "data": {
                        "text/plain": [
                            "tensor([ 0.7926, -0.3920,  0.1714,  0.0797, -1.0143,  0.5097, -0.0608,  0.5047,\n",
                            "         1.0132,  0.1887], grad_fn=<AddBackward0>)"
                        ]
                    },
                    "metadata": {},
                    "execution_count": 3
                }
            ],
            "metadata": {}
        },
        {
            "cell_type": "code",
            "execution_count": 4,
            "source": [
                "list(model.parameters())"
            ],
            "outputs": [
                {
                    "output_type": "execute_result",
                    "data": {
                        "text/plain": [
                            "[Parameter containing:\n",
                            " tensor([[ 0.5153],\n",
                            "         [-0.4414],\n",
                            "         [-0.1939],\n",
                            "         [ 0.4694],\n",
                            "         [-0.9414],\n",
                            "         [ 0.5997],\n",
                            "         [-0.2057],\n",
                            "         [ 0.5087],\n",
                            "         [ 0.1390],\n",
                            "         [-0.1224]], requires_grad=True),\n",
                            " Parameter containing:\n",
                            " tensor([ 0.2774,  0.0493,  0.3652, -0.3897, -0.0729, -0.0900,  0.1449, -0.0040,\n",
                            "          0.8742,  0.3112], requires_grad=True)]"
                        ]
                    },
                    "metadata": {},
                    "execution_count": 4
                }
            ],
            "metadata": {}
        },
        {
            "cell_type": "code",
            "execution_count": 6,
            "source": [
                "x = torch.tensor([[1.0]])"
            ],
            "outputs": [],
            "metadata": {}
        },
        {
            "cell_type": "code",
            "execution_count": 7,
            "source": [
                "# make a prediction\r\n",
                "yhat = model(x)\r\n",
                "yhat"
            ],
            "outputs": [
                {
                    "output_type": "execute_result",
                    "data": {
                        "text/plain": [
                            "tensor([[ 0.7926, -0.3920,  0.1714,  0.0797, -1.0143,  0.5097, -0.0608,  0.5047,\n",
                            "          1.0132,  0.1887]], grad_fn=<AddmmBackward>)"
                        ]
                    },
                    "metadata": {},
                    "execution_count": 7
                }
            ],
            "metadata": {}
        },
        {
            "cell_type": "code",
            "execution_count": 8,
            "source": [
                "X = torch.tensor([[1.0], [2.0], [3.0]])"
            ],
            "outputs": [],
            "metadata": {}
        },
        {
            "cell_type": "code",
            "execution_count": 9,
            "source": [
                "Yhat = model(X)\r\n",
                "Yhat  # 3 rows, each has 10 cols"
            ],
            "outputs": [
                {
                    "output_type": "execute_result",
                    "data": {
                        "text/plain": [
                            "tensor([[ 0.7926, -0.3920,  0.1714,  0.0797, -1.0143,  0.5097, -0.0608,  0.5047,\n",
                            "          1.0132,  0.1887],\n",
                            "        [ 1.3079, -0.8334, -0.0225,  0.5490, -1.9558,  1.1094, -0.2665,  1.0135,\n",
                            "          1.1522,  0.0663],\n",
                            "        [ 1.8232, -1.2748, -0.2164,  1.0184, -2.8972,  1.7091, -0.4722,  1.5222,\n",
                            "          1.2912, -0.0561]], grad_fn=<AddmmBackward>)"
                        ]
                    },
                    "metadata": {},
                    "execution_count": 9
                }
            ],
            "metadata": {}
        },
        {
            "cell_type": "code",
            "execution_count": null,
            "source": [],
            "outputs": [],
            "metadata": {}
        }
    ],
    "metadata": {
        "orig_nbformat": 4,
        "language_info": {
            "name": "python"
        }
    },
    "nbformat": 4,
    "nbformat_minor": 2
}