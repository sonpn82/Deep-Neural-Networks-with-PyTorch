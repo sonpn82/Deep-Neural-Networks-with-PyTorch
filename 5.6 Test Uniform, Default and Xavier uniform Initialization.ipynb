{
    "cells": [
        {
            "cell_type": "markdown",
            "source": [
                "# IBM Developer Skills Network"
            ],
            "metadata": {}
        },
        {
            "cell_type": "markdown",
            "source": [
                "# Test Uniform, Default and Xavier uniform Initialization"
            ],
            "metadata": {}
        },
        {
            "cell_type": "code",
            "execution_count": 1,
            "source": [
                "\r\n",
                "import torch \r\n",
                "import torch.nn as nn\r\n",
                "import torchvision.transforms as transforms\r\n",
                "import torchvision.datasets as dsets\r\n",
                "import matplotlib.pylab as plt\r\n",
                "import numpy as np\r\n",
                "\r\n",
                "torch.manual_seed(0)"
            ],
            "outputs": [
                {
                    "output_type": "execute_result",
                    "data": {
                        "text/plain": [
                            "<torch._C.Generator at 0x5d69950>"
                        ]
                    },
                    "metadata": {},
                    "execution_count": 1
                }
            ],
            "metadata": {}
        },
        {
            "cell_type": "code",
            "execution_count": 2,
            "source": [
                "# Define the class\r\n",
                "\r\n",
                "class Net_Xavier(nn.Module):\r\n",
                "\r\n",
                "    # Constructor\r\n",
                "    def __init__(self, Layers):\r\n",
                "        super(Net_Xavier, self).__init__()\r\n",
                "        self.hidden = nn.ModuleList()\r\n",
                "\r\n",
                "        for input_size, output_size in zip(Layers, Layers[1:]):\r\n",
                "            linear = nn.Linear(input_size, output_size)\r\n",
                "            torch.nn.init.xavier_uniform_(linear.weight)\r\n",
                "            self.hidden.append(linear)\r\n",
                "        \r\n",
                "    # Prediction\r\n",
                "    def forward(self, x):\r\n",
                "        L = len(self.hidden)\r\n",
                "        for (l, linear_transform) in zip(range(L), self.hidden):\r\n",
                "            if l < L-1:\r\n",
                "                x = torch.tanh(linear_transform(x))\r\n",
                "            else:\r\n",
                "                x = linear_transform(x)\r\n",
                "            return x"
            ],
            "outputs": [],
            "metadata": {}
        },
        {
            "cell_type": "code",
            "execution_count": 14,
            "source": [
                "# Net with uniform initial\r\n",
                "\r\n",
                "class Net_Uniform(nn.Module):\r\n",
                "\r\n",
                "    # Constructor\r\n",
                "    def __init__(self, Layers):\r\n",
                "        super(Net_Uniform, self).__init__()\r\n",
                "        self.hidden = nn.ModuleList()\r\n",
                "\r\n",
                "        for input_size, output_size in zip(Layers, Layers[1:]):\r\n",
                "            linear = nn.Linear(input_size, output_size)\r\n",
                "            linear.weight.data.uniform_(0, 1)\r\n",
                "            self.hidden.append(linear)\r\n",
                "\r\n",
                "    # Prediction\r\n",
                "    def forward(self, x):\r\n",
                "        L = len(self.hidden)\r\n",
                "        for (l, linear_transform) in zip(range(L), self.hidden):\r\n",
                "            if l < L-1:\r\n",
                "                x = torch.tanh(linear_transform(x))\r\n",
                "            else:\r\n",
                "                x = linear_transform(x)\r\n",
                "            return x"
            ],
            "outputs": [],
            "metadata": {}
        },
        {
            "cell_type": "code",
            "execution_count": 4,
            "source": [
                "# Net with default initial\r\n",
                "\r\n",
                "class Net(nn.Module):\r\n",
                "\r\n",
                "    # Constructor\r\n",
                "    def __init__(self, Layers):\r\n",
                "        super(Net, self).__init__()\r\n",
                "        self.hidden = nn.ModuleList()\r\n",
                "\r\n",
                "        for input_size, output_size in zip(Layers, Layers[1:]):\r\n",
                "            linear = nn.Linear(input_size, output_size)\r\n",
                "            self.hidden.append(linear)\r\n",
                "\r\n",
                "    # Prediction\r\n",
                "    def forward(self, x):\r\n",
                "        L = len(self.hidden)\r\n",
                "        for (l, linear_transform) in zip(range(L), self.hidden):\r\n",
                "            if l < L-1:\r\n",
                "                x = torch.tanh(linear_transform(x))\r\n",
                "            else:\r\n",
                "                x = linear_transform(x)\r\n",
                "            return x"
            ],
            "outputs": [],
            "metadata": {}
        },
        {
            "cell_type": "code",
            "execution_count": 5,
            "source": [
                "# Function to train the model\r\n",
                "\r\n",
                "def train(model, criterion, train_loader, validation_loader, optimizer, epochs=100):\r\n",
                "    i=0\r\n",
                "    loss_accuracy = {'training_loss':[], 'validation_accuracy':[]} \r\n",
                "\r\n",
                "    for epoch in range(epochs):\r\n",
                "        for i, (x, y) in enumerate(train_loader):\r\n",
                "            optimizer.zero_grad()\r\n",
                "            z = model(x.view(-1, 28*28))\r\n",
                "            loss = criterion(z, y)\r\n",
                "            loss.backward()\r\n",
                "            optimizer.step()\r\n",
                "            loss_accuracy['training_loss'].append(loss.data.item())\r\n",
                "\r\n",
                "        correct = 0\r\n",
                "        for x, y in validation_loader:\r\n",
                "            yhat = model(x.view(-1, 28*28))\r\n",
                "            _, label = torch.max(yhat, 1)\r\n",
                "            correct += (label==y).sum().item()\r\n",
                "        \r\n",
                "        accuracy = 100 * (correct / len(validation_dataset))\r\n",
                "        loss_accuracy['validation_accuracy'].append(accuracy)\r\n",
                "    \r\n",
                "    return loss_accuracy"
            ],
            "outputs": [],
            "metadata": {}
        },
        {
            "cell_type": "markdown",
            "source": [
                "# Get the Data"
            ],
            "metadata": {}
        },
        {
            "cell_type": "code",
            "execution_count": 6,
            "source": [
                "# Create the train dataset\r\n",
                "\r\n",
                "train_dataset = dsets.MNIST(root='./data', train=True, download=True, transform=transforms.ToTensor())"
            ],
            "outputs": [],
            "metadata": {}
        },
        {
            "cell_type": "code",
            "execution_count": 7,
            "source": [
                "# Create the validation dataset\r\n",
                "\r\n",
                "validation_dataset = dsets.MNIST(root='./data', train=False, download=True, transform=transforms.ToTensor())"
            ],
            "outputs": [],
            "metadata": {}
        },
        {
            "cell_type": "code",
            "execution_count": 8,
            "source": [
                "# Create Dataloader for both train dataset and validation dataset\r\n",
                "\r\n",
                "train_loader = torch.utils.data.DataLoader(dataset=train_dataset, batch_size=2000, shuffle=True)\r\n",
                "validation_loader = torch.utils.data.DataLoader(dataset=validation_dataset, batch_size=5000, shuffle=False)"
            ],
            "outputs": [],
            "metadata": {}
        },
        {
            "cell_type": "markdown",
            "source": [
                "# Define the network"
            ],
            "metadata": {}
        },
        {
            "cell_type": "code",
            "execution_count": 9,
            "source": [
                "# Criterion\r\n",
                "criterion = nn.CrossEntropyLoss()"
            ],
            "outputs": [],
            "metadata": {}
        },
        {
            "cell_type": "code",
            "execution_count": 10,
            "source": [
                "# Set the net\r\n",
                "input_dim = 28*28\r\n",
                "output_dim = 10\r\n",
                "# 5 hidden layers\r\n",
                "layers = [input_dim, 100, 10, 100, 10, 100, output_dim]\r\n",
                "epochs = 15"
            ],
            "outputs": [],
            "metadata": {}
        },
        {
            "cell_type": "markdown",
            "source": [
                "# Test different initialization"
            ],
            "metadata": {}
        },
        {
            "cell_type": "code",
            "execution_count": 11,
            "source": [
                "# Default ini\r\n",
                "model = Net(layers)\r\n",
                "learning_rate = 0.01\r\n",
                "optimizer = torch.optim.SGD(model.parameters(), lr=learning_rate)\r\n",
                "training_results = train(model, criterion, train_loader, validation_loader, optimizer, epochs=epochs)"
            ],
            "outputs": [],
            "metadata": {}
        },
        {
            "cell_type": "code",
            "execution_count": 12,
            "source": [
                "# Xavier ini\r\n",
                "model_Xavier = Net_Xavier(layers)\r\n",
                "optimizer = torch.optim.SGD(model_Xavier.parameters(), lr=learning_rate)\r\n",
                "training_results_Xavier = train(model_Xavier, criterion, train_loader, validation_loader, optimizer, epochs=epochs)"
            ],
            "outputs": [],
            "metadata": {}
        },
        {
            "cell_type": "code",
            "execution_count": 15,
            "source": [
                "# uniform ini\r\n",
                "model_Uniform = Net_Uniform(layers)\r\n",
                "optimizer = torch.optim.SGD(model_Uniform.parameters(), lr=learning_rate)\r\n",
                "training_results_Uniform = train(model_Uniform, criterion, train_loader, validation_loader, optimizer, epochs=epochs)"
            ],
            "outputs": [],
            "metadata": {}
        },
        {
            "cell_type": "markdown",
            "source": [
                "# Analyze results"
            ],
            "metadata": {}
        },
        {
            "cell_type": "code",
            "execution_count": 16,
            "source": [
                "# Plot the loss\r\n",
                "\r\n",
                "plt.plot(training_results_Xavier['training_loss'], label='Xavier')\r\n",
                "plt.plot(training_results['training_loss'], label='Default')\r\n",
                "plt.plot(training_results_Uniform['training_loss'], label='Uniform')\r\n",
                "plt.ylabel('loss')\r\n",
                "plt.xlabel('iteration ')  \r\n",
                "plt.title('training loss iterations')\r\n",
                "plt.legend()"
            ],
            "outputs": [
                {
                    "output_type": "execute_result",
                    "data": {
                        "text/plain": [
                            "<matplotlib.legend.Legend at 0x3ae8c400>"
                        ]
                    },
                    "metadata": {},
                    "execution_count": 16
                },
                {
                    "output_type": "display_data",
                    "data": {
                        "text/plain": [
                            "<Figure size 432x288 with 1 Axes>"
                        ],
                        "image/png": "[encoded data removed]"
                    },
                    "metadata": {
                        "needs_background": "light"
                    }
                }
            ],
            "metadata": {}
        },
        {
            "cell_type": "markdown",
            "source": [
                "# Plot the accuracy"
            ],
            "metadata": {}
        },
        {
            "cell_type": "code",
            "execution_count": 17,
            "source": [
                "\r\n",
                "plt.plot(training_results_Xavier['validation_accuracy'], label='Xavier')\r\n",
                "plt.plot(training_results['validation_accuracy'], label='Default')\r\n",
                "plt.plot(training_results_Uniform['validation_accuracy'], label='Uniform') \r\n",
                "plt.ylabel('validation accuracy')\r\n",
                "plt.xlabel('epochs')   \r\n",
                "plt.legend()"
            ],
            "outputs": [
                {
                    "output_type": "execute_result",
                    "data": {
                        "text/plain": [
                            "<matplotlib.legend.Legend at 0x3ac7bf10>"
                        ]
                    },
                    "metadata": {},
                    "execution_count": 17
                },
                {
                    "output_type": "display_data",
                    "data": {
                        "text/plain": [
                            "<Figure size 432x288 with 1 Axes>"
                        ],
                        "image/png": "[encoded data removed]"
                    },
                    "metadata": {
                        "needs_background": "light"
                    }
                }
            ],
            "metadata": {}
        },
        {
            "cell_type": "code",
            "execution_count": null,
            "source": [],
            "outputs": [],
            "metadata": {}
        }
    ],
    "metadata": {
        "orig_nbformat": 4,
        "language_info": {
            "name": "python"
        }
    },
    "nbformat": 4,
    "nbformat_minor": 2
}