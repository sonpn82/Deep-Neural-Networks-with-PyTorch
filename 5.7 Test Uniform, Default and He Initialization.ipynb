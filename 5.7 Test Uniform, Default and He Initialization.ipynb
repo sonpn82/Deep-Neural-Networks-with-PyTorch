{
    "cells": [
        {
            "cell_type": "markdown",
            "source": [
                "# IBM Developer Skills Network"
            ],
            "metadata": {}
        },
        {
            "cell_type": "markdown",
            "source": [
                "# Test Uniform, Default and He Initialization"
            ],
            "metadata": {}
        },
        {
            "cell_type": "code",
            "execution_count": 1,
            "source": [
                "import torch\r\n",
                "import torch.nn as nn\r\n",
                "import torchvision.transforms as transforms\r\n",
                "import torchvision.datasets as dsets\r\n",
                "import torch.nn.functional as F\r\n",
                "import matplotlib.pylab as plt\r\n",
                "import numpy as np\r\n",
                "\r\n",
                "torch.manual_seed(0)"
            ],
            "outputs": [
                {
                    "output_type": "execute_result",
                    "data": {
                        "text/plain": [
                            "<torch._C.Generator at 0xfd43550>"
                        ]
                    },
                    "metadata": {},
                    "execution_count": 1
                }
            ],
            "metadata": {}
        },
        {
            "cell_type": "markdown",
            "source": [
                "# Neural Network Module and Training Function"
            ],
            "metadata": {}
        },
        {
            "cell_type": "code",
            "execution_count": 2,
            "source": [
                "class Net_He(nn.Module):\r\n",
                "\r\n",
                "    # Constructor\r\n",
                "    def __init__(self, Layers):\r\n",
                "        super(Net_He, self).__init__()\r\n",
                "        self.hidden = nn.ModuleList()\r\n",
                "\r\n",
                "        for input_size, output_size in zip(Layers, Layers[1:]):\r\n",
                "            linear = nn.Linear(input_size, output_size)\r\n",
                "            torch.nn.init.kaiming_uniform_(linear.weight, nonlinearity='relu')\r\n",
                "            self.hidden.append(linear)\r\n",
                "        \r\n",
                "    # Prediction\r\n",
                "    def forward(self, x):\r\n",
                "        L = len(self.hidden)\r\n",
                "        for (l, linear_transform) in zip(range(L), self.hidden):\r\n",
                "            if l < L-1:\r\n",
                "                x = F.relu(linear_transform(x))\r\n",
                "            else:\r\n",
                "                x = linear_transform(x)\r\n",
                "        \r\n",
                "        return x"
            ],
            "outputs": [],
            "metadata": {}
        },
        {
            "cell_type": "code",
            "execution_count": 3,
            "source": [
                "# Uniform ini\r\n",
                "\r\n",
                "class Net_Uniform(nn.Module):\r\n",
                "\r\n",
                "    # Constructor\r\n",
                "    def __init__(self, Layers):\r\n",
                "        super(Net_Uniform, self).__init__()\r\n",
                "        self.hidden = nn.ModuleList()\r\n",
                "\r\n",
                "        for input_size, output_size in zip(Layers, Layers[1:]):\r\n",
                "            linear = nn.Linear(input_size, output_size)\r\n",
                "            linear.weight.data.uniform_(0, 1)\r\n",
                "            self.hidden.append(linear)\r\n",
                "\r\n",
                "    \r\n",
                "    # Prediction\r\n",
                "    def forward(self, x):\r\n",
                "        L = len(self.hidden)\r\n",
                "\r\n",
                "        for (l, linear_transform) in zip(range(L), self.hidden):\r\n",
                "            if l < L-1:\r\n",
                "                x = F.relu(linear_transform(x))\r\n",
                "            else:\r\n",
                "                x = linear_transform(x)\r\n",
                "        \r\n",
                "        return x"
            ],
            "outputs": [],
            "metadata": {}
        },
        {
            "cell_type": "code",
            "execution_count": 4,
            "source": [
                "# Define the class for neural network model with PyTorch Default Initialization\r\n",
                "\r\n",
                "class Net(nn.Module):\r\n",
                "    \r\n",
                "    # Constructor\r\n",
                "    def __init__(self, Layers):\r\n",
                "        super(Net, self).__init__()\r\n",
                "        self.hidden = nn.ModuleList()\r\n",
                "\r\n",
                "        for input_size, output_size in zip(Layers, Layers[1:]):\r\n",
                "            linear = nn.Linear(input_size, output_size)\r\n",
                "            self.hidden.append(linear)\r\n",
                "        \r\n",
                "    def forward(self, x):\r\n",
                "        L=len(self.hidden)\r\n",
                "        for (l, linear_transform) in zip(range(L), self.hidden):\r\n",
                "            if l < L - 1:\r\n",
                "                x = F.relu(linear_transform(x))\r\n",
                "            else:\r\n",
                "                x = linear_transform(x)\r\n",
                "                \r\n",
                "        return x"
            ],
            "outputs": [],
            "metadata": {}
        },
        {
            "cell_type": "code",
            "execution_count": 5,
            "source": [
                "# Traing function\r\n",
                "\r\n",
                "def train(model, criterion, train_loader, validation_loader, optimizer, epochs=100):\r\n",
                "    i=0\r\n",
                "    loss_accuracy = {'training_loss': [], 'validation_accuracy': []}\r\n",
                "\r\n",
                "    for epoch in range(epochs):\r\n",
                "        for i, (x, y) in enumerate(train_loader):\r\n",
                "            optimizer.zero_grad()\r\n",
                "            z = model(x.view(-1, 28*28))\r\n",
                "            loss = criterion(z, y)\r\n",
                "            loss.backward()\r\n",
                "            optimizer.step()\r\n",
                "            loss_accuracy['training_loss'].append(loss.data.item())\r\n",
                "        \r\n",
                "        correct = 0\r\n",
                "        for x, y in validation_loader:\r\n",
                "            yhat = model(x.view(-1, 28*28))\r\n",
                "            _, label = torch.max(yhat, 1)\r\n",
                "            correct += (label==y).sum().item()\r\n",
                "        \r\n",
                "        accuracy = 100 * (correct/len(validation_dataset))\r\n",
                "        loss_accuracy['validation_accuracy'].append(accuracy)\r\n",
                "    \r\n",
                "    return loss_accuracy"
            ],
            "outputs": [],
            "metadata": {}
        },
        {
            "cell_type": "markdown",
            "source": [
                "# Get some Data"
            ],
            "metadata": {}
        },
        {
            "cell_type": "code",
            "execution_count": 6,
            "source": [
                "# Create the training dataset\r\n",
                "\r\n",
                "train_dataset = dsets.MNIST(root='./data', train=True, download=True, transform=transforms.ToTensor())"
            ],
            "outputs": [],
            "metadata": {}
        },
        {
            "cell_type": "code",
            "execution_count": 7,
            "source": [
                "# Create the validation dataset\r\n",
                "\r\n",
                "validation_dataset = dsets.MNIST(root='./data', train=False, download=True, transform=transforms.ToTensor())"
            ],
            "outputs": [],
            "metadata": {}
        },
        {
            "cell_type": "code",
            "execution_count": 8,
            "source": [
                "# Create the data loader for training and validation\r\n",
                "\r\n",
                "train_loader = torch.utils.data.DataLoader(dataset=train_dataset, batch_size=2000, shuffle=True)\r\n",
                "validation_loader = torch.utils.data.DataLoader(dataset=validation_dataset, batch_size=5000, shuffle=False)"
            ],
            "outputs": [],
            "metadata": {}
        },
        {
            "cell_type": "markdown",
            "source": [
                "# Define the network"
            ],
            "metadata": {}
        },
        {
            "cell_type": "code",
            "execution_count": 9,
            "source": [
                "# criterion\r\n",
                "criterion = nn.CrossEntropyLoss()"
            ],
            "outputs": [],
            "metadata": {}
        },
        {
            "cell_type": "code",
            "execution_count": 10,
            "source": [
                "# parameters\r\n",
                "input_dim = 28*28\r\n",
                "output_dim = 10\r\n",
                "layers = [input_dim, 100, 200, 100, output_dim]"
            ],
            "outputs": [],
            "metadata": {}
        },
        {
            "cell_type": "markdown",
            "source": [
                "# Test Default ini, He Init and Uniform ini"
            ],
            "metadata": {}
        },
        {
            "cell_type": "code",
            "execution_count": 11,
            "source": [
                "# Default ini\r\n",
                "model = Net(layers)\r\n",
                "learning_rate = 0.01\r\n",
                "optimizer = torch.optim.SGD(model.parameters(), lr=learning_rate)\r\n",
                "training_results = train(model, criterion, train_loader, validation_loader, optimizer, epochs=30)"
            ],
            "outputs": [],
            "metadata": {}
        },
        {
            "cell_type": "code",
            "execution_count": 12,
            "source": [
                "# He ini\r\n",
                "model_He = Net_He(layers)\r\n",
                "optimizer = torch.optim.SGD(model_He.parameters(), lr=learning_rate)\r\n",
                "training_results_He = train(model, criterion, train_loader, validation_loader, optimizer, epochs=30)"
            ],
            "outputs": [],
            "metadata": {}
        },
        {
            "cell_type": "code",
            "execution_count": 13,
            "source": [
                "# Uniform ini\r\n",
                "model_Uniform = Net_Uniform(layers)\r\n",
                "optimizer = torch.optim.SGD(model_Uniform.parameters(), lr=learning_rate)\r\n",
                "training_results_Uniform = train(model_Uniform, criterion, train_loader, validation_loader, optimizer, epochs=30)"
            ],
            "outputs": [],
            "metadata": {}
        },
        {
            "cell_type": "markdown",
            "source": [
                "# Analyze the Results"
            ],
            "metadata": {}
        },
        {
            "cell_type": "code",
            "execution_count": 14,
            "source": [
                "# Plot the loss\r\n",
                "\r\n",
                "plt.plot(training_results_He['training_loss'], label='He')\r\n",
                "plt.plot(training_results['training_loss'], label='Default')\r\n",
                "plt.plot(training_results_Uniform['training_loss'], label='Uniform')\r\n",
                "plt.ylabel('loss')\r\n",
                "plt.xlabel('iteration ') \r\n",
                "plt.title('training loss iterations')\r\n",
                "plt.legend()"
            ],
            "outputs": [
                {
                    "output_type": "execute_result",
                    "data": {
                        "text/plain": [
                            "<matplotlib.legend.Legend at 0x3b034760>"
                        ]
                    },
                    "metadata": {},
                    "execution_count": 14
                },
                {
                    "output_type": "display_data",
                    "data": {
                        "text/plain": [
                            "<Figure size 432x288 with 1 Axes>"
                        ],
                        "image/png": "[encoded data removed]"
                    },
                    "metadata": {
                        "needs_background": "light"
                    }
                }
            ],
            "metadata": {}
        },
        {
            "cell_type": "code",
            "execution_count": 15,
            "source": [
                "# Plot the accuracy\r\n",
                "\r\n",
                "plt.plot(training_results_He['validation_accuracy'], label='He')\r\n",
                "plt.plot(training_results['validation_accuracy'], label='Default')\r\n",
                "plt.plot(training_results_Uniform['validation_accuracy'], label='Uniform') \r\n",
                "plt.ylabel('validation accuracy')\r\n",
                "plt.xlabel('epochs ')   \r\n",
                "plt.legend()\r\n",
                "plt.show()"
            ],
            "outputs": [
                {
                    "output_type": "display_data",
                    "data": {
                        "text/plain": [
                            "<Figure size 432x288 with 1 Axes>"
                        ],
                        "image/png": "[encoded data removed]"
                    },
                    "metadata": {
                        "needs_background": "light"
                    }
                }
            ],
            "metadata": {}
        },
        {
            "cell_type": "code",
            "execution_count": null,
            "source": [],
            "outputs": [],
            "metadata": {}
        }
    ],
    "metadata": {
        "orig_nbformat": 4,
        "language_info": {
            "name": "python"
        }
    },
    "nbformat": 4,
    "nbformat_minor": 2
}