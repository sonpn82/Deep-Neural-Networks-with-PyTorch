{
    "cells": [
        {
            "cell_type": "markdown",
            "source": [
                "# IBM Developer Skills Network"
            ],
            "metadata": {}
        },
        {
            "cell_type": "markdown",
            "source": [
                "# Multiple Input and OutPut Channels"
            ],
            "metadata": {}
        },
        {
            "cell_type": "code",
            "execution_count": 3,
            "source": [
                "import torch\r\n",
                "import torch.nn as nn\r\n",
                "import matplotlib.pyplot as plt\r\n",
                "import numpy as np\r\n",
                "from scipy import ndimage, misc"
            ],
            "outputs": [],
            "metadata": {}
        },
        {
            "cell_type": "markdown",
            "source": [
                "# Multiple Output Channels"
            ],
            "metadata": {}
        },
        {
            "cell_type": "markdown",
            "source": [
                "In Pytroch, you can create a <code>Conv2d</code> object with multiple outputs. For each channel, a kernel is created, and each kernel performs a convolution independently. As a result, the number of outputs is equal to the number of channels. This is demonstrated in the following figure. The number 9 is convolved with three kernels: each of a different color. There are three different activation maps represented by the different colors.\r\n"
            ],
            "metadata": {}
        },
        {
            "cell_type": "code",
            "execution_count": 4,
            "source": [
                "# create a conv object with 3 channels\r\n",
                "conv1 = nn.Conv2d(in_channels=1, out_channels=3, kernel_size=3)"
            ],
            "outputs": [],
            "metadata": {}
        },
        {
            "cell_type": "code",
            "execution_count": 5,
            "source": [
                "Gx=torch.tensor([[1.0,0,-1.0],[2.0,0,-2.0],[1.0,0.0,-1.0]])  # x kernel\r\n",
                "Gy=torch.tensor([[1.0,2.0,1.0],[0.0,0.0,0.0],[-1.0,-2.0,-1.0]]) # y kernel\r\n",
                "\r\n",
                "conv1.state_dict()['weight'][0][0]=Gx\r\n",
                "conv1.state_dict()['weight'][1][0]=Gy\r\n",
                "conv1.state_dict()['weight'][2][0]=torch.ones(3,3)"
            ],
            "outputs": [],
            "metadata": {}
        },
        {
            "cell_type": "code",
            "execution_count": 6,
            "source": [
                "# Print out each kernel\r\n",
                "for x in conv1.state_dict()['weight']:\r\n",
                "    print(x) "
            ],
            "outputs": [
                {
                    "output_type": "stream",
                    "name": "stdout",
                    "text": [
                        "tensor([[[ 1.,  0., -1.],\n",
                        "         [ 2.,  0., -2.],\n",
                        "         [ 1.,  0., -1.]]])\n",
                        "tensor([[[ 1.,  2.,  1.],\n",
                        "         [ 0.,  0.,  0.],\n",
                        "         [-1., -2., -1.]]])\n",
                        "tensor([[[1., 1., 1.],\n",
                        "         [1., 1., 1.],\n",
                        "         [1., 1., 1.]]])\n"
                    ]
                }
            ],
            "metadata": {}
        },
        {
            "cell_type": "code",
            "execution_count": 7,
            "source": [
                "# Image\r\n",
                "image = torch.zeros(1, 1, 5, 5)\r\n",
                "image[0, 0, :, 2] = 1\r\n",
                "image"
            ],
            "outputs": [
                {
                    "output_type": "execute_result",
                    "data": {
                        "text/plain": [
                            "tensor([[[[0., 0., 1., 0., 0.],\n",
                            "          [0., 0., 1., 0., 0.],\n",
                            "          [0., 0., 1., 0., 0.],\n",
                            "          [0., 0., 1., 0., 0.],\n",
                            "          [0., 0., 1., 0., 0.]]]])"
                        ]
                    },
                    "metadata": {},
                    "execution_count": 7
                }
            ],
            "metadata": {}
        },
        {
            "cell_type": "code",
            "execution_count": 8,
            "source": [
                "plt.imshow(image[0,0,:,:].numpy(), interpolation='nearest', cmap=plt.cm.gray)\r\n",
                "plt.colorbar()\r\n",
                "plt.show()"
            ],
            "outputs": [
                {
                    "output_type": "display_data",
                    "data": {
                        "text/plain": [
                            "<Figure size 432x288 with 2 Axes>"
                        ],
                        "image/png": "[encoded data removed]"
                    },
                    "metadata": {
                        "needs_background": "light"
                    }
                }
            ],
            "metadata": {}
        },
        {
            "cell_type": "code",
            "execution_count": 9,
            "source": [
                "# Perform convolution\r\n",
                "out = conv1(image)"
            ],
            "outputs": [],
            "metadata": {}
        },
        {
            "cell_type": "markdown",
            "source": [
                "The result is a 1x3x3x3 tensor. This represents one sample with three channels, and each channel contains a 3x3 image.  The same rules that govern the shape of each image were discussed in the last section.\r\n"
            ],
            "metadata": {}
        },
        {
            "cell_type": "code",
            "execution_count": 10,
            "source": [
                "out.shape"
            ],
            "outputs": [
                {
                    "output_type": "execute_result",
                    "data": {
                        "text/plain": [
                            "torch.Size([1, 3, 3, 3])"
                        ]
                    },
                    "metadata": {},
                    "execution_count": 10
                }
            ],
            "metadata": {}
        },
        {
            "cell_type": "code",
            "execution_count": 11,
            "source": [
                "# Print each channel as image\r\n",
                "for channel,image in enumerate(out[0]):\r\n",
                "    plt.imshow(image.detach().numpy(), interpolation='nearest', cmap=plt.cm.gray)\r\n",
                "    print(image)\r\n",
                "    plt.title(\"channel {}\".format(channel))\r\n",
                "    plt.colorbar()\r\n",
                "    plt.show()"
            ],
            "outputs": [
                {
                    "output_type": "stream",
                    "name": "stdout",
                    "text": [
                        "tensor([[-4.1465, -0.1465,  3.8535],\n",
                        "        [-4.1465, -0.1465,  3.8535],\n",
                        "        [-4.1465, -0.1465,  3.8535]], grad_fn=<UnbindBackward>)\n"
                    ]
                },
                {
                    "output_type": "display_data",
                    "data": {
                        "text/plain": [
                            "<Figure size 432x288 with 2 Axes>"
                        ],
                        "image/png": "[encoded data removed]"
                    },
                    "metadata": {
                        "needs_background": "light"
                    }
                },
                {
                    "output_type": "stream",
                    "name": "stdout",
                    "text": [
                        "tensor([[0.2324, 0.2324, 0.2324],\n",
                        "        [0.2324, 0.2324, 0.2324],\n",
                        "        [0.2324, 0.2324, 0.2324]], grad_fn=<UnbindBackward>)\n"
                    ]
                },
                {
                    "output_type": "display_data",
                    "data": {
                        "text/plain": [
                            "<Figure size 432x288 with 2 Axes>"
                        ],
                        "image/png": "[encoded data removed]"
                    },
                    "metadata": {
                        "needs_background": "light"
                    }
                },
                {
                    "output_type": "stream",
                    "name": "stdout",
                    "text": [
                        "tensor([[3.2365, 3.2365, 3.2365],\n",
                        "        [3.2365, 3.2365, 3.2365],\n",
                        "        [3.2365, 3.2365, 3.2365]], grad_fn=<UnbindBackward>)\n"
                    ]
                },
                {
                    "output_type": "display_data",
                    "data": {
                        "text/plain": [
                            "<Figure size 432x288 with 2 Axes>"
                        ],
                        "image/png": "[encoded data removed]"
                    },
                    "metadata": {
                        "needs_background": "light"
                    }
                }
            ],
            "metadata": {}
        },
        {
            "cell_type": "markdown",
            "source": [
                "Different kernels can be used to detect various features in an image. You can see that the first channel fluctuates, and the second two channels produce a constant value. The following figure summarizes the process:\r\n"
            ],
            "metadata": {}
        },
        {
            "cell_type": "code",
            "execution_count": 12,
            "source": [
                "# The result will be different with different image\r\n",
                "image1 = torch.zeros(1,1,5,5)\r\n",
                "image1[0,0,2,:]=1\r\n",
                "print(image1)\r\n",
                "plt.imshow(image1[0,0,:,:].detach().numpy(), interpolation='nearest', cmap=plt.cm.gray)\r\n",
                "plt.show()"
            ],
            "outputs": [
                {
                    "output_type": "stream",
                    "name": "stdout",
                    "text": [
                        "tensor([[[[0., 0., 0., 0., 0.],\n",
                        "          [0., 0., 0., 0., 0.],\n",
                        "          [1., 1., 1., 1., 1.],\n",
                        "          [0., 0., 0., 0., 0.],\n",
                        "          [0., 0., 0., 0., 0.]]]])\n"
                    ]
                },
                {
                    "output_type": "display_data",
                    "data": {
                        "text/plain": [
                            "<Figure size 432x288 with 1 Axes>"
                        ],
                        "image/png": "[encoded data removed]"
                    },
                    "metadata": {
                        "needs_background": "light"
                    }
                }
            ],
            "metadata": {}
        },
        {
            "cell_type": "code",
            "execution_count": 13,
            "source": [
                "out1=conv1(image1)\r\n",
                "for channel,image in enumerate(out1[0]):\r\n",
                "    plt.imshow(image.detach().numpy(), interpolation='nearest', cmap=plt.cm.gray)\r\n",
                "    print(image)\r\n",
                "    plt.title(\"channel {}\".format(channel))\r\n",
                "    plt.colorbar()\r\n",
                "    plt.show()"
            ],
            "outputs": [
                {
                    "output_type": "stream",
                    "name": "stdout",
                    "text": [
                        "tensor([[-0.1465, -0.1465, -0.1465],\n",
                        "        [-0.1465, -0.1465, -0.1465],\n",
                        "        [-0.1465, -0.1465, -0.1465]], grad_fn=<UnbindBackward>)\n"
                    ]
                },
                {
                    "output_type": "display_data",
                    "data": {
                        "text/plain": [
                            "<Figure size 432x288 with 2 Axes>"
                        ],
                        "image/png": "[encoded data removed]"
                    },
                    "metadata": {
                        "needs_background": "light"
                    }
                },
                {
                    "output_type": "stream",
                    "name": "stdout",
                    "text": [
                        "tensor([[-3.7676, -3.7676, -3.7676],\n",
                        "        [ 0.2324,  0.2324,  0.2324],\n",
                        "        [ 4.2324,  4.2324,  4.2324]], grad_fn=<UnbindBackward>)\n"
                    ]
                },
                {
                    "output_type": "display_data",
                    "data": {
                        "text/plain": [
                            "<Figure size 432x288 with 2 Axes>"
                        ],
                        "image/png": "[encoded data removed]"
                    },
                    "metadata": {
                        "needs_background": "light"
                    }
                },
                {
                    "output_type": "stream",
                    "name": "stdout",
                    "text": [
                        "tensor([[3.2365, 3.2365, 3.2365],\n",
                        "        [3.2365, 3.2365, 3.2365],\n",
                        "        [3.2365, 3.2365, 3.2365]], grad_fn=<UnbindBackward>)\n"
                    ]
                },
                {
                    "output_type": "display_data",
                    "data": {
                        "text/plain": [
                            "<Figure size 432x288 with 2 Axes>"
                        ],
                        "image/png": "[encoded data removed]"
                    },
                    "metadata": {
                        "needs_background": "light"
                    }
                }
            ],
            "metadata": {}
        },
        {
            "cell_type": "markdown",
            "source": [
                "# Multiple input channels"
            ],
            "metadata": {}
        },
        {
            "cell_type": "markdown",
            "source": [
                "For two inputs, you can create two kernels. Each kernel performs a convolution on its associated input channel. The resulting output is added together as shown:  \r\n"
            ],
            "metadata": {}
        },
        {
            "cell_type": "code",
            "execution_count": 14,
            "source": [
                "# create an input with 2 channels\r\n",
                "image2 = torch.zeros(1,2,5,5)\r\n",
                "image2[0,0,2,:] = -2\r\n",
                "image2[0,1,2,:] = 1"
            ],
            "outputs": [],
            "metadata": {}
        },
        {
            "cell_type": "code",
            "execution_count": 15,
            "source": [
                "for channel,image in enumerate(image2[0]):\r\n",
                "    plt.imshow(image.detach().numpy(), interpolation='nearest', cmap=plt.cm.gray)\r\n",
                "    print(image)\r\n",
                "    plt.title(\"channel {}\".format(channel))\r\n",
                "    plt.colorbar()\r\n",
                "    plt.show()"
            ],
            "outputs": [
                {
                    "output_type": "stream",
                    "name": "stdout",
                    "text": [
                        "tensor([[ 0.,  0.,  0.,  0.,  0.],\n",
                        "        [ 0.,  0.,  0.,  0.,  0.],\n",
                        "        [-2., -2., -2., -2., -2.],\n",
                        "        [ 0.,  0.,  0.,  0.,  0.],\n",
                        "        [ 0.,  0.,  0.,  0.,  0.]])\n"
                    ]
                },
                {
                    "output_type": "display_data",
                    "data": {
                        "text/plain": [
                            "<Figure size 432x288 with 2 Axes>"
                        ],
                        "image/png": "[encoded data removed]"
                    },
                    "metadata": {
                        "needs_background": "light"
                    }
                },
                {
                    "output_type": "stream",
                    "name": "stdout",
                    "text": [
                        "tensor([[0., 0., 0., 0., 0.],\n",
                        "        [0., 0., 0., 0., 0.],\n",
                        "        [1., 1., 1., 1., 1.],\n",
                        "        [0., 0., 0., 0., 0.],\n",
                        "        [0., 0., 0., 0., 0.]])\n"
                    ]
                },
                {
                    "output_type": "display_data",
                    "data": {
                        "text/plain": [
                            "<Figure size 432x288 with 2 Axes>"
                        ],
                        "image/png": "[encoded data removed]"
                    },
                    "metadata": {
                        "needs_background": "light"
                    }
                }
            ],
            "metadata": {}
        },
        {
            "cell_type": "code",
            "execution_count": 17,
            "source": [
                "# Create conv object with 2 input\r\n",
                "conv3 = nn.Conv2d(in_channels=2, out_channels=1, kernel_size = 3)"
            ],
            "outputs": [],
            "metadata": {}
        },
        {
            "cell_type": "code",
            "execution_count": 18,
            "source": [
                "Gx1=torch.tensor([[0.0,0.0,0.0],[0,1.0,0],[0.0,0.0,0.0]])\r\n",
                "conv3.state_dict()['weight'][0][0]=1*Gx1\r\n",
                "conv3.state_dict()['weight'][0][1]=-2*Gx1\r\n",
                "conv3.state_dict()['bias'][:]=torch.tensor([0.0])"
            ],
            "outputs": [],
            "metadata": {}
        },
        {
            "cell_type": "code",
            "execution_count": 19,
            "source": [
                "conv3.state_dict()['weight']"
            ],
            "outputs": [
                {
                    "output_type": "execute_result",
                    "data": {
                        "text/plain": [
                            "tensor([[[[ 0.,  0.,  0.],\n",
                            "          [ 0.,  1.,  0.],\n",
                            "          [ 0.,  0.,  0.]],\n",
                            "\n",
                            "         [[-0., -0., -0.],\n",
                            "          [-0., -2., -0.],\n",
                            "          [-0., -0., -0.]]]])"
                        ]
                    },
                    "metadata": {},
                    "execution_count": 19
                }
            ],
            "metadata": {}
        },
        {
            "cell_type": "code",
            "execution_count": 20,
            "source": [
                "# Perform the convoluution\r\n",
                "conv3(image2)"
            ],
            "outputs": [
                {
                    "output_type": "execute_result",
                    "data": {
                        "text/plain": [
                            "tensor([[[[ 0.,  0.,  0.],\n",
                            "          [-4., -4., -4.],\n",
                            "          [ 0.,  0.,  0.]]]], grad_fn=<ThnnConv2DBackward>)"
                        ]
                    },
                    "metadata": {},
                    "execution_count": 20
                }
            ],
            "metadata": {}
        },
        {
            "cell_type": "markdown",
            "source": [
                "# Multiple input and output channel"
            ],
            "metadata": {}
        },
        {
            "cell_type": "markdown",
            "source": [
                "When using multiple inputs and outputs, a kernel is created for each input, and the process is repeated for each output. The process is summarized in the following image. \r\n",
                "\r\n",
                "There are two input channels and 3 output channels. For each channel, the input in red and purple is convolved with an individual kernel that is colored differently. As a result, there are three outputs. \r\n"
            ],
            "metadata": {}
        },
        {
            "cell_type": "code",
            "execution_count": 21,
            "source": [
                "# example with 2 nputs 3 outputs\r\n",
                "\r\n",
                "conv4 = nn.Conv2d(in_channels=2, out_channels=3,kernel_size=3)\r\n",
                "conv4.state_dict()['weight'][0][0]=torch.tensor([[0.0,0.0,0.0],[0,0.5,0],[0.0,0.0,0.0]])\r\n",
                "conv4.state_dict()['weight'][0][1]=torch.tensor([[0.0,0.0,0.0],[0,0.5,0],[0.0,0.0,0.0]])\r\n",
                "\r\n",
                "\r\n",
                "conv4.state_dict()['weight'][1][0]=torch.tensor([[0.0,0.0,0.0],[0,1,0],[0.0,0.0,0.0]])\r\n",
                "conv4.state_dict()['weight'][1][1]=torch.tensor([[0.0,0.0,0.0],[0,-1,0],[0.0,0.0,0.0]])\r\n",
                "\r\n",
                "conv4.state_dict()['weight'][2][0]=torch.tensor([[1.0,0,-1.0],[2.0,0,-2.0],[1.0,0.0,-1.0]])\r\n",
                "conv4.state_dict()['weight'][2][1]=torch.tensor([[1.0,2.0,1.0],[0.0,0.0,0.0],[-1.0,-2.0,-1.0]])"
            ],
            "outputs": [],
            "metadata": {}
        },
        {
            "cell_type": "code",
            "execution_count": 22,
            "source": [
                "conv4.state_dict()['bias'][:]=torch.tensor([0.0,0.0,0.0])"
            ],
            "outputs": [],
            "metadata": {}
        },
        {
            "cell_type": "code",
            "execution_count": 23,
            "source": [
                "image4=torch.zeros(1,2,5,5)\r\n",
                "image4[0][0]=torch.ones(5,5)\r\n",
                "image4[0][1][2][2]=1\r\n",
                "for channel,image in enumerate(image4[0]):\r\n",
                "    plt.imshow(image.detach().numpy(), interpolation='nearest', cmap=plt.cm.gray)\r\n",
                "    print(image)\r\n",
                "    plt.title(\"channel {}\".format(channel))\r\n",
                "    plt.colorbar()\r\n",
                "    plt.show()"
            ],
            "outputs": [
                {
                    "output_type": "stream",
                    "name": "stdout",
                    "text": [
                        "tensor([[1., 1., 1., 1., 1.],\n",
                        "        [1., 1., 1., 1., 1.],\n",
                        "        [1., 1., 1., 1., 1.],\n",
                        "        [1., 1., 1., 1., 1.],\n",
                        "        [1., 1., 1., 1., 1.]])\n"
                    ]
                },
                {
                    "output_type": "display_data",
                    "data": {
                        "text/plain": [
                            "<Figure size 432x288 with 2 Axes>"
                        ],
                        "image/png": "[encoded data removed]"
                    },
                    "metadata": {
                        "needs_background": "light"
                    }
                },
                {
                    "output_type": "stream",
                    "name": "stdout",
                    "text": [
                        "tensor([[0., 0., 0., 0., 0.],\n",
                        "        [0., 0., 0., 0., 0.],\n",
                        "        [0., 0., 1., 0., 0.],\n",
                        "        [0., 0., 0., 0., 0.],\n",
                        "        [0., 0., 0., 0., 0.]])\n"
                    ]
                },
                {
                    "output_type": "display_data",
                    "data": {
                        "text/plain": [
                            "<Figure size 432x288 with 2 Axes>"
                        ],
                        "image/png": "[encoded data removed]"
                    },
                    "metadata": {
                        "needs_background": "light"
                    }
                }
            ],
            "metadata": {}
        },
        {
            "cell_type": "code",
            "execution_count": 24,
            "source": [
                "z = conv4(image4)"
            ],
            "outputs": [],
            "metadata": {}
        },
        {
            "cell_type": "code",
            "execution_count": 25,
            "source": [
                "# Practice\r\n",
                "\r\n",
                "imageA=torch.zeros(1,1,5,5)\r\n",
                "imageB=torch.zeros(1,1,5,5)\r\n",
                "imageA[0,0,2,:]=-2\r\n",
                "imageB[0,0,2,:]=1\r\n",
                "\r\n",
                "\r\n",
                "conv5 = nn.Conv2d(in_channels=1, out_channels=1,kernel_size=3)\r\n",
                "conv6 = nn.Conv2d(in_channels=1, out_channels=1,kernel_size=3)\r\n",
                "\r\n",
                "\r\n",
                "Gx1=torch.tensor([[0.0,0.0,0.0],[0,1.0,0],[0.0,0.0,0.0]])\r\n",
                "conv5.state_dict()['weight'][0][0]=1*Gx1\r\n",
                "conv6.state_dict()['weight'][0][0]=-2*Gx1\r\n",
                "conv5.state_dict()['bias'][:]=torch.tensor([0.0])\r\n",
                "conv6.state_dict()['bias'][:]=torch.tensor([0.0])"
            ],
            "outputs": [],
            "metadata": {}
        },
        {
            "cell_type": "code",
            "execution_count": 26,
            "source": [
                "\r\n",
                "conv5(imageA)+conv6(imageB)"
            ],
            "outputs": [
                {
                    "output_type": "execute_result",
                    "data": {
                        "text/plain": [
                            "tensor([[[[ 0.,  0.,  0.],\n",
                            "          [-4., -4., -4.],\n",
                            "          [ 0.,  0.,  0.]]]], grad_fn=<AddBackward0>)"
                        ]
                    },
                    "metadata": {},
                    "execution_count": 26
                }
            ],
            "metadata": {}
        },
        {
            "cell_type": "code",
            "execution_count": null,
            "source": [],
            "outputs": [],
            "metadata": {}
        }
    ],
    "metadata": {
        "orig_nbformat": 4,
        "language_info": {
            "name": "python"
        }
    },
    "nbformat": 4,
    "nbformat_minor": 2
}