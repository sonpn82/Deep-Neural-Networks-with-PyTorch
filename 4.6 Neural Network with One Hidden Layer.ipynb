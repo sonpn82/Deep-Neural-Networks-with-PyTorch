{
    "cells": [
        {
            "cell_type": "markdown",
            "source": [
                "# IBM Developer Skills Network"
            ],
            "metadata": {}
        },
        {
            "cell_type": "markdown",
            "source": [
                "# Neural Network with One Hidden Layer"
            ],
            "metadata": {}
        },
        {
            "cell_type": "code",
            "execution_count": 1,
            "source": [
                "import torch\r\n",
                "import torch.nn as nn\r\n",
                "import torchvision.transforms as transforms\r\n",
                "import torchvision.datasets as dsets\r\n",
                "import torch.nn.functional as F\r\n",
                "import matplotlib.pylab as plt\r\n",
                "import numpy as np"
            ],
            "outputs": [],
            "metadata": {}
        },
        {
            "cell_type": "code",
            "execution_count": 2,
            "source": [
                "# Define a function to plot accuracy and loss\r\n",
                "\r\n",
                "def plot_accuracy_loss(training_results): \r\n",
                "    plt.subplot(2, 1, 1)\r\n",
                "    plt.plot(training_results['training_loss'], 'r')\r\n",
                "    plt.ylabel('loss')\r\n",
                "    plt.title('training loss iterations')\r\n",
                "    plt.subplot(2, 1, 2)\r\n",
                "    plt.plot(training_results['validation_accuracy'])\r\n",
                "    plt.ylabel('accuracy')\r\n",
                "    plt.xlabel('epochs')   \r\n",
                "    plt.show()"
            ],
            "outputs": [],
            "metadata": {}
        },
        {
            "cell_type": "code",
            "execution_count": 3,
            "source": [
                "# Define a function to plot model parameters\r\n",
                "\r\n",
                "def print_model_parameters(model):\r\n",
                "    count = 0\r\n",
                "    for ele in model.state_dict():\r\n",
                "        count += 1\r\n",
                "        if count % 2 != 0:\r\n",
                "            print (\"The following are the parameters for the layer \", count // 2 + 1)\r\n",
                "        if ele.find(\"bias\") != -1:\r\n",
                "            print(\"The size of bias: \", model.state_dict()[ele].size())\r\n",
                "        else:\r\n",
                "            print(\"The size of weights: \", model.state_dict()[ele].size())"
            ],
            "outputs": [],
            "metadata": {}
        },
        {
            "cell_type": "code",
            "execution_count": 4,
            "source": [
                "# Define a function to display data\r\n",
                "\r\n",
                "def show_data(data_sample):\r\n",
                "    plt.imshow(data_sample.numpy().reshape(28, 28), cmap='gray')\r\n",
                "    plt.show()"
            ],
            "outputs": [],
            "metadata": {}
        },
        {
            "cell_type": "markdown",
            "source": [
                "# Neural Network Module and Training Function"
            ],
            "metadata": {}
        },
        {
            "cell_type": "code",
            "execution_count": 5,
            "source": [
                "# Define a class\r\n",
                "\r\n",
                "class Net(nn.Module):\r\n",
                "\r\n",
                "    # Constructor\r\n",
                "    def __init__(self, D_in, H, D_out):\r\n",
                "        super(Net, self).__init__()\r\n",
                "        self.linear1 = nn.Linear(D_in, H)\r\n",
                "        self.linear2 = nn.Linear(H, D_out)\r\n",
                "    \r\n",
                "    # Prediction\r\n",
                "    def forward(self, x):\r\n",
                "        x = torch.sigmoid(self.linear1(x))\r\n",
                "        x = self.linear2(x)\r\n",
                "        return x"
            ],
            "outputs": [],
            "metadata": {}
        },
        {
            "cell_type": "code",
            "execution_count": 16,
            "source": [
                "# Define a training function\r\n",
                "\r\n",
                "def train(model, criterion, train_loader, validation_loader, optimizer, epochs=100):\r\n",
                "    i=0\r\n",
                "    useful_stuff = {'training_loss': [], 'validation_accuracy': []}\r\n",
                "    for epoch in range(epochs):\r\n",
                "        for i, (x, y) in enumerate(train_loader):\r\n",
                "            optimizer.zero_grad()\r\n",
                "            z = model(x.view(-1, 28*28))\r\n",
                "            loss = criterion(z, y)\r\n",
                "            loss.backward()\r\n",
                "            optimizer.step()\r\n",
                "\r\n",
                "            useful_stuff['training_loss'].append(loss.data.item())\r\n",
                "        correct = 0\r\n",
                "        for x, y in validation_loader:\r\n",
                "            # validation\r\n",
                "            z = model(x.view(-1, 28*28))\r\n",
                "            _, label = torch.max(z, 1)\r\n",
                "            correct += (label == y).sum().item()\r\n",
                "        accuracy = 100 * (correct / len(validation_dataset))\r\n",
                "        useful_stuff['validation_accuracy'].append(accuracy)\r\n",
                "    return useful_stuff"
            ],
            "outputs": [],
            "metadata": {}
        },
        {
            "cell_type": "markdown",
            "source": [
                "# Make some Data"
            ],
            "metadata": {}
        },
        {
            "cell_type": "code",
            "execution_count": 7,
            "source": [
                "# Create training dataset\r\n",
                "\r\n",
                "train_dataset = dsets.MNIST(root='./data', train=True, download=True, transform=transforms.ToTensor())"
            ],
            "outputs": [],
            "metadata": {}
        },
        {
            "cell_type": "code",
            "execution_count": 8,
            "source": [
                "# Create validating dataset\r\n",
                "\r\n",
                "validation_dataset = dsets.MNIST(root='./data', download=True, transform=transforms.ToTensor())"
            ],
            "outputs": [],
            "metadata": {}
        },
        {
            "cell_type": "code",
            "execution_count": 9,
            "source": [
                "# Criterion function\r\n",
                "criterion = nn.CrossEntropyLoss()"
            ],
            "outputs": [],
            "metadata": {}
        },
        {
            "cell_type": "code",
            "execution_count": 10,
            "source": [
                "# train loader\r\n",
                "train_loader = torch.utils.data.DataLoader(dataset=train_dataset, batch_size=2000, shuffle=True)\r\n",
                "validation_loader = torch.utils.data.DataLoader(dataset=validation_dataset, batch_size=5000, shuffle=False)"
            ],
            "outputs": [],
            "metadata": {}
        },
        {
            "cell_type": "markdown",
            "source": [
                "# Define the network, optimizer and train"
            ],
            "metadata": {}
        },
        {
            "cell_type": "code",
            "execution_count": 17,
            "source": [
                "# Create model with 100 neurons\r\n",
                "input_dim = 28*28\r\n",
                "hidden_dim = 100\r\n",
                "output_dim = 10\r\n",
                "\r\n",
                "model = Net(input_dim, hidden_dim, output_dim)"
            ],
            "outputs": [],
            "metadata": {}
        },
        {
            "cell_type": "code",
            "execution_count": 18,
            "source": [
                "# Print the parameters\r\n",
                "print_model_parameters(model)"
            ],
            "outputs": [
                {
                    "output_type": "stream",
                    "name": "stdout",
                    "text": [
                        "The following are the parameters for the layer  1\n",
                        "The size of weights:  torch.Size([100, 784])\n",
                        "The size of bias:  torch.Size([100])\n",
                        "The following are the parameters for the layer  2\n",
                        "The size of weights:  torch.Size([10, 100])\n",
                        "The size of bias:  torch.Size([10])\n"
                    ]
                }
            ],
            "metadata": {}
        },
        {
            "cell_type": "code",
            "execution_count": 19,
            "source": [
                "# Set learning rate and optimizer\r\n",
                "learning_rate = 0.01\r\n",
                "optimizer = torch.optim.SGD(model.parameters(), lr=learning_rate)"
            ],
            "outputs": [],
            "metadata": {}
        },
        {
            "cell_type": "code",
            "execution_count": 20,
            "source": [
                "# train the model\r\n",
                "training_results = train(model, criterion, train_loader, validation_loader, optimizer, epochs=30)"
            ],
            "outputs": [],
            "metadata": {}
        },
        {
            "cell_type": "markdown",
            "source": [
                "# Analyze the results"
            ],
            "metadata": {}
        },
        {
            "cell_type": "code",
            "execution_count": 21,
            "source": [
                "# Plot the accuracy and loss\r\n",
                "\r\n",
                "plot_accuracy_loss(training_results)"
            ],
            "outputs": [
                {
                    "output_type": "display_data",
                    "data": {
                        "text/plain": [
                            "<Figure size 432x288 with 2 Axes>"
                        ],
                        "image/png": "[encoded data removed]"
                    },
                    "metadata": {
                        "needs_background": "light"
                    }
                }
            ],
            "metadata": {}
        },
        {
            "cell_type": "code",
            "execution_count": 22,
            "source": [
                "# Plot the first five misclassified samples\r\n",
                "\r\n",
                "count = 0\r\n",
                "for x, y in validation_dataset:\r\n",
                "    z = model(x.reshape(-1, 28 * 28))\r\n",
                "    _,yhat = torch.max(z, 1)\r\n",
                "    if yhat != y:\r\n",
                "        show_data(x)\r\n",
                "        count += 1\r\n",
                "    if count >= 5:\r\n",
                "        break"
            ],
            "outputs": [
                {
                    "output_type": "display_data",
                    "data": {
                        "text/plain": [
                            "<Figure size 432x288 with 1 Axes>"
                        ],
                        "image/png": "[encoded data removed]"
                    },
                    "metadata": {
                        "needs_background": "light"
                    }
                },
                {
                    "output_type": "display_data",
                    "data": {
                        "text/plain": [
                            "<Figure size 432x288 with 1 Axes>"
                        ],
                        "image/png": "[encoded data removed]"
                    },
                    "metadata": {
                        "needs_background": "light"
                    }
                },
                {
                    "output_type": "display_data",
                    "data": {
                        "text/plain": [
                            "<Figure size 432x288 with 1 Axes>"
                        ],
                        "image/png": "[encoded data removed]"
                    },
                    "metadata": {
                        "needs_background": "light"
                    }
                },
                {
                    "output_type": "display_data",
                    "data": {
                        "text/plain": [
                            "<Figure size 432x288 with 1 Axes>"
                        ],
                        "image/png": "[encoded data removed]"
                    },
                    "metadata": {
                        "needs_background": "light"
                    }
                },
                {
                    "output_type": "display_data",
                    "data": {
                        "text/plain": [
                            "<Figure size 432x288 with 1 Axes>"
                        ],
                        "image/png": "[encoded data removed]"
                    },
                    "metadata": {
                        "needs_background": "light"
                    }
                }
            ],
            "metadata": {}
        },
        {
            "cell_type": "code",
            "execution_count": 24,
            "source": [
                "# Practice\r\n",
                "inpnut_dim = 28*28\r\n",
                "hidden_dim = 100\r\n",
                "output_dim = 10\r\n",
                "\r\n",
                "model = torch.nn.Sequential(torch.nn.Linear(input_dim, hidden_dim),\r\n",
                "                            torch.nn.Sigmoid(),\r\n",
                "                            torch.nn.Linear(hidden_dim, output_dim),\r\n",
                "                            )\r\n",
                "learning_rate = 0.01\r\n",
                "optimizer = torch.optim.SGD(model.parameters(), lr=learning_rate)\r\n",
                "training_results = train(model, criterion, train_loader, validation_loader, optimizer, epochs=100)\r\n",
                "plot_accuracy_loss(training_results)"
            ],
            "outputs": [
                {
                    "output_type": "display_data",
                    "data": {
                        "text/plain": [
                            "<Figure size 432x288 with 2 Axes>"
                        ],
                        "image/png": "[encoded data removed]"
                    },
                    "metadata": {
                        "needs_background": "light"
                    }
                }
            ],
            "metadata": {}
        },
        {
            "cell_type": "code",
            "execution_count": null,
            "source": [],
            "outputs": [],
            "metadata": {}
        }
    ],
    "metadata": {
        "orig_nbformat": 4,
        "language_info": {
            "name": "python"
        }
    },
    "nbformat": 4,
    "nbformat_minor": 2
}