{
    "cells": [
        {
            "cell_type": "markdown",
            "source": [
                "# IBM Developer Skills Network"
            ],
            "metadata": {}
        },
        {
            "cell_type": "markdown",
            "source": [
                "# Final Project Fashion_MNIST dataset"
            ],
            "metadata": {}
        },
        {
            "cell_type": "code",
            "execution_count": 2,
            "source": [
                "from torch.utils.data import Dataset, DataLoader\r\n",
                "from torchvision import transforms\r\n",
                "import torch\r\n",
                "import torch.nn as nn\r\n",
                "import torchvision.transforms as transforms\r\n",
                "import torchvision.datasets as dsets\r\n",
                "torch.manual_seed(0)"
            ],
            "outputs": [
                {
                    "output_type": "execute_result",
                    "data": {
                        "text/plain": [
                            "<torch._C.Generator at 0x2a8fa890>"
                        ]
                    },
                    "metadata": {},
                    "execution_count": 2
                }
            ],
            "metadata": {}
        },
        {
            "cell_type": "code",
            "execution_count": 1,
            "source": [
                "from matplotlib.pyplot import imshow\r\n",
                "import matplotlib.pylab as plt\r\n",
                "from PIL import Image"
            ],
            "outputs": [],
            "metadata": {}
        },
        {
            "cell_type": "code",
            "execution_count": 3,
            "source": [
                "def show_data(data_sample):\r\n",
                "    plt.imshow(data_sample[0].numpy().reshape(IMAGE_SIZE, IMAGE_SIZE), cmap='gray')\r\n",
                "    plt.title('y = '+ str(data_sample[1]))"
            ],
            "outputs": [],
            "metadata": {}
        },
        {
            "cell_type": "markdown",
            "source": [
                "# Create Dataset Class"
            ],
            "metadata": {}
        },
        {
            "cell_type": "code",
            "execution_count": 4,
            "source": [
                "IMAGE_SIZE = 16\r\n",
                "\r\n",
                "transforms.Resize((IMAGE_SIZE, IMAGE_SIZE))\r\n",
                "transforms.ToTensor()\r\n",
                "composed = transforms.Compose([transforms.Resize((IMAGE_SIZE, IMAGE_SIZE)), transforms.ToTensor()])"
            ],
            "outputs": [],
            "metadata": {}
        },
        {
            "cell_type": "code",
            "execution_count": 5,
            "source": [
                "# train and validation dataset\r\n",
                "dataset_train = dsets.FashionMNIST(root = '.fashion/data', train=True, transform=composed, download=True)\r\n",
                "dataset_val = dsets.FashionMNIST(root = '.fashion/data', train=False, transform=composed, download=True)"
            ],
            "outputs": [],
            "metadata": {}
        },
        {
            "cell_type": "code",
            "execution_count": 6,
            "source": [
                "for n,data_sample in enumerate(dataset_val):\r\n",
                "\r\n",
                "    show_data(data_sample)\r\n",
                "    plt.show()\r\n",
                "    if n==2:\r\n",
                "        break "
            ],
            "outputs": [
                {
                    "output_type": "display_data",
                    "data": {
                        "text/plain": [
                            "<Figure size 432x288 with 1 Axes>"
                        ],
                        "image/png": "[encoded data removed]"
                    },
                    "metadata": {
                        "needs_background": "light"
                    }
                },
                {
                    "output_type": "display_data",
                    "data": {
                        "text/plain": [
                            "<Figure size 432x288 with 1 Axes>"
                        ],
                        "image/png": "[encoded data removed]"
                    },
                    "metadata": {
                        "needs_background": "light"
                    }
                },
                {
                    "output_type": "display_data",
                    "data": {
                        "text/plain": [
                            "<Figure size 432x288 with 1 Axes>"
                        ],
                        "image/png": "[encoded data removed]"
                    },
                    "metadata": {
                        "needs_background": "light"
                    }
                }
            ],
            "metadata": {}
        },
        {
            "cell_type": "markdown",
            "source": [
                "# Check GPU"
            ],
            "metadata": {}
        },
        {
            "cell_type": "code",
            "execution_count": 7,
            "source": [
                "torch.cuda.is_available()"
            ],
            "outputs": [
                {
                    "output_type": "execute_result",
                    "data": {
                        "text/plain": [
                            "True"
                        ]
                    },
                    "metadata": {},
                    "execution_count": 7
                }
            ],
            "metadata": {}
        },
        {
            "cell_type": "code",
            "execution_count": 9,
            "source": [
                "# create a device\r\n",
                "device = torch.device('cuda:0')\r\n",
                "device"
            ],
            "outputs": [
                {
                    "output_type": "execute_result",
                    "data": {
                        "text/plain": [
                            "device(type='cuda', index=0)"
                        ]
                    },
                    "metadata": {},
                    "execution_count": 9
                }
            ],
            "metadata": {}
        },
        {
            "cell_type": "markdown",
            "source": [
                "# Create the convolutional neural network"
            ],
            "metadata": {}
        },
        {
            "cell_type": "code",
            "execution_count": 10,
            "source": [
                "# with batch norm\r\n",
                "class CNN_batch(nn.Module):\r\n",
                "\r\n",
                "    # Constructor\r\n",
                "    def __init__(self, out_1=16, out_2=32, number_of_classes=10):\r\n",
                "        super(CNN_batch, self).__init__()\r\n",
                "        self.cnn1 = nn.Conv2d(in_channels=1, out_channels=out_1, kernel_size=5, padding=2)\r\n",
                "        self.conv1_bn = nn.BatchNorm2d(out_1)\r\n",
                "        self.maxpool1 = nn.MaxPool2d(kernel_size=2)\r\n",
                "\r\n",
                "        self.cnn2 = nn.Conv2d(in_channels=out_1, out_channels=out_2, kernel_size=5, stride=1, padding=2)\r\n",
                "        self.conv2_bn = nn.BatchNorm2d(out_2)\r\n",
                "        self.maxpool2 = nn.MaxPool2d(kernel_size=2)\r\n",
                "\r\n",
                "        self.fc1 = nn.Linear(out_2 * 4 * 4, number_of_classes)\r\n",
                "        self.bn_fc1 = nn.BatchNorm1d(10)\r\n",
                "    \r\n",
                "    # Prediction\r\n",
                "    def forward(self, x):\r\n",
                "        x = self.cnn1(x)\r\n",
                "        x = self.conv1_bn(x)\r\n",
                "        x = torch.relu(x)\r\n",
                "        x = self.maxpool1(x)\r\n",
                "\r\n",
                "        x = self.cnn2(x)\r\n",
                "        x = self.conv2_bn(x)\r\n",
                "        x = torch.relu(x)\r\n",
                "        x = self.maxpool2(x)\r\n",
                "\r\n",
                "        x = x.view(x.size(0), -1)\r\n",
                "        x = self.fc1(x)\r\n",
                "        x = self.bn_fc1(x)\r\n",
                "        return x\r\n"
            ],
            "outputs": [],
            "metadata": {}
        },
        {
            "cell_type": "code",
            "execution_count": 11,
            "source": [
                "# Without batch norm\r\n",
                "class CNN(nn.Module):\r\n",
                "\r\n",
                "    # Constructor\r\n",
                "    def __init__(self, out_1=16, out_2=32, number_of_classes=10):\r\n",
                "        super(CNN, self).__init__()\r\n",
                "        self.cnn1 = nn.Conv2d(in_channels=1, out_channels=out_1, kernel_size=5, padding=2)\r\n",
                "        self.maxpool1 = nn.MaxPool2d(kernel_size=2)\r\n",
                "\r\n",
                "        self.cnn2 = nn.Conv2d(in_channels=out_1, out_channels=out_2, kernel_size=5, stride=1, padding=2)\r\n",
                "        self.maxpool2 = nn.MaxPool2d(kernel_size=2)\r\n",
                "        self.fc1 = nn.Linear(out_2 * 4 * 4, number_of_classes)\r\n",
                "    \r\n",
                "    # Prediction\r\n",
                "    def forward(self, x):\r\n",
                "        x = self.cnn1(x)\r\n",
                "        x = torch.relu(x)\r\n",
                "        x = self.maxpool1(x)\r\n",
                "\r\n",
                "        x = self.cnn2(x)\r\n",
                "        x = torch.relu(x)\r\n",
                "        x = self.maxpool2(x)\r\n",
                "\r\n",
                "        x = x.view(x.size(0), -1)\r\n",
                "        x = self.fc1(x)\r\n",
                "        return x\r\n",
                "        "
            ],
            "outputs": [],
            "metadata": {}
        },
        {
            "cell_type": "code",
            "execution_count": 12,
            "source": [
                "# Data loader\r\n",
                "train_loader = DataLoader(dataset=dataset_train, batch_size=100)\r\n",
                "test_loader = DataLoader(dataset=dataset_val, batch_size=100)"
            ],
            "outputs": [],
            "metadata": {}
        },
        {
            "cell_type": "code",
            "execution_count": 13,
            "source": [
                "model = CNN(out_1=16, out_2=32,number_of_classes=10)\r\n",
                "model.to(device)"
            ],
            "outputs": [
                {
                    "output_type": "execute_result",
                    "data": {
                        "text/plain": [
                            "CNN(\n",
                            "  (cnn1): Conv2d(1, 16, kernel_size=(5, 5), stride=(1, 1), padding=(2, 2))\n",
                            "  (maxpool1): MaxPool2d(kernel_size=2, stride=2, padding=0, dilation=1, ceil_mode=False)\n",
                            "  (cnn2): Conv2d(16, 32, kernel_size=(5, 5), stride=(1, 1), padding=(2, 2))\n",
                            "  (maxpool2): MaxPool2d(kernel_size=2, stride=2, padding=0, dilation=1, ceil_mode=False)\n",
                            "  (fc1): Linear(in_features=512, out_features=10, bias=True)\n",
                            ")"
                        ]
                    },
                    "metadata": {},
                    "execution_count": 13
                }
            ],
            "metadata": {}
        },
        {
            "cell_type": "code",
            "execution_count": 14,
            "source": [
                "# loss model\r\n",
                "criterion = nn.CrossEntropyLoss()\r\n",
                "optimizer = torch.optim.SGD(model.parameters(), lr=0.1)"
            ],
            "outputs": [],
            "metadata": {}
        },
        {
            "cell_type": "code",
            "execution_count": 15,
            "source": [
                "import time\r\n",
                "start_time = time.time()\r\n",
                "\r\n",
                "cost_list = []\r\n",
                "accuracy_list = []\r\n",
                "N_test = len(dataset_val)\r\n",
                "n_epochs = 5\r\n",
                "\r\n",
                "for epoch in range(n_epochs):\r\n",
                "    cost = 0\r\n",
                "    model.train()\r\n",
                "    for x, y in train_loader:\r\n",
                "        x, y = x.to(device), y.to(device)  # using GPU for training\r\n",
                "\r\n",
                "        optimizer.zero_grad()\r\n",
                "        z = model(x)\r\n",
                "        loss = criterion(z, y)\r\n",
                "        loss.backward()\r\n",
                "        optimizer.step()\r\n",
                "        cost += loss.item()\r\n",
                "    \r\n",
                "    correct = 0\r\n",
                "    model.eval()\r\n",
                "    for x_test, y_test in test_loader:\r\n",
                "        x_test, y_test = x_test.to(device), y_test.to(device) # using GPU\r\n",
                "\r\n",
                "        z = model(x_test)\r\n",
                "        _, yhat = torch.max(z.data, 1)\r\n",
                "        correct += (yhat == y_test).sum().item()\r\n",
                "    \r\n",
                "    accuracy = correct / N_test\r\n",
                "    accuracy_list.append(accuracy)\r\n",
                "    cost_list.append(cost)\r\n"
            ],
            "outputs": [],
            "metadata": {}
        },
        {
            "cell_type": "code",
            "execution_count": 17,
            "source": [
                "# Plot the accuracy\r\n",
                "\r\n",
                "fig, ax1 = plt.subplots()\r\n",
                "color = 'tab:red'\r\n",
                "ax1.plot(cost_list, color=color)\r\n",
                "ax1.set_xlabel('epoch', color=color)\r\n",
                "ax1.set_ylabel('Cost', color=color)\r\n",
                "ax1.tick_params(axis='y', color=color)\r\n",
                "    \r\n",
                "ax2 = ax1.twinx()  \r\n",
                "color = 'tab:blue'\r\n",
                "ax2.set_ylabel('accuracy', color=color) \r\n",
                "ax2.set_xlabel('epoch', color=color)\r\n",
                "ax2.plot( accuracy_list, color=color)\r\n",
                "ax2.tick_params(axis='y', color=color)\r\n",
                "fig.tight_layout()"
            ],
            "outputs": [
                {
                    "output_type": "display_data",
                    "data": {
                        "text/plain": [
                            "<Figure size 432x288 with 2 Axes>"
                        ],
                        "image/png": "[encoded data removed]"
                    },
                    "metadata": {
                        "needs_background": "light"
                    }
                }
            ],
            "metadata": {}
        },
        {
            "cell_type": "code",
            "execution_count": 18,
            "source": [
                "# With batch norm\r\n",
                "model_BN =CNN_batch(out_1=16, out_2=32,number_of_classes=10)\r\n",
                "model_BN.to(device)  # using gpu"
            ],
            "outputs": [
                {
                    "output_type": "execute_result",
                    "data": {
                        "text/plain": [
                            "CNN_batch(\n",
                            "  (cnn1): Conv2d(1, 16, kernel_size=(5, 5), stride=(1, 1), padding=(2, 2))\n",
                            "  (conv1_bn): BatchNorm2d(16, eps=1e-05, momentum=0.1, affine=True, track_running_stats=True)\n",
                            "  (maxpool1): MaxPool2d(kernel_size=2, stride=2, padding=0, dilation=1, ceil_mode=False)\n",
                            "  (cnn2): Conv2d(16, 32, kernel_size=(5, 5), stride=(1, 1), padding=(2, 2))\n",
                            "  (conv2_bn): BatchNorm2d(32, eps=1e-05, momentum=0.1, affine=True, track_running_stats=True)\n",
                            "  (maxpool2): MaxPool2d(kernel_size=2, stride=2, padding=0, dilation=1, ceil_mode=False)\n",
                            "  (fc1): Linear(in_features=512, out_features=10, bias=True)\n",
                            "  (bn_fc1): BatchNorm1d(10, eps=1e-05, momentum=0.1, affine=True, track_running_stats=True)\n",
                            ")"
                        ]
                    },
                    "metadata": {},
                    "execution_count": 18
                }
            ],
            "metadata": {}
        },
        {
            "cell_type": "code",
            "execution_count": 19,
            "source": [
                "criterion = nn.CrossEntropyLoss()\r\n",
                "optimizer = torch.optim.SGD(model.parameters(), lr=0.1)"
            ],
            "outputs": [],
            "metadata": {}
        },
        {
            "cell_type": "code",
            "execution_count": 20,
            "source": [
                "import time\r\n",
                "start_time = time.time()\r\n",
                "\r\n",
                "cost_list=[]\r\n",
                "accuracy_list=[]\r\n",
                "N_test=len(dataset_val)\r\n",
                "n_epochs=5\r\n",
                "for epoch in range(n_epochs):\r\n",
                "    cost=0\r\n",
                "    model_BN.train()\r\n",
                "    for x, y in train_loader:\r\n",
                "        x, y = x.to(device), y.to(device) # using gpu\r\n",
                "\r\n",
                "        optimizer.zero_grad()\r\n",
                "        z = model_BN(x)\r\n",
                "        loss = criterion(z, y)\r\n",
                "        loss.backward()\r\n",
                "        optimizer.step()\r\n",
                "        cost+=loss.item()\r\n",
                "    correct=0\r\n",
                "\r\n",
                "    # perform a prediction on the validation  data \r\n",
                "    model_BN.eval()\r\n",
                "    for x_test, y_test in test_loader:\r\n",
                "        x_test, y_test = x_test.to(device), y_test.to(device)\r\n",
                "\r\n",
                "        z = model_BN(x_test)\r\n",
                "        _, yhat = torch.max(z.data, 1)\r\n",
                "        correct += (yhat == y_test).sum().item()\r\n",
                "\r\n",
                "    accuracy = correct / N_test\r\n",
                "    accuracy_list.append(accuracy)\r\n",
                "    cost_list.append(cost)"
            ],
            "outputs": [],
            "metadata": {}
        },
        {
            "cell_type": "code",
            "execution_count": 21,
            "source": [
                "# Plot the accuracy\r\n",
                "\r\n",
                "fig, ax1 = plt.subplots()\r\n",
                "color = 'tab:red'\r\n",
                "ax1.plot(cost_list, color=color)\r\n",
                "ax1.set_xlabel('epoch', color=color)\r\n",
                "ax1.set_ylabel('Cost', color=color)\r\n",
                "ax1.tick_params(axis='y', color=color)\r\n",
                "    \r\n",
                "ax2 = ax1.twinx()  \r\n",
                "color = 'tab:blue'\r\n",
                "ax2.set_ylabel('accuracy', color=color) \r\n",
                "ax2.set_xlabel('epoch', color=color)\r\n",
                "ax2.plot( accuracy_list, color=color)\r\n",
                "ax2.tick_params(axis='y', color=color)\r\n",
                "fig.tight_layout()"
            ],
            "outputs": [
                {
                    "output_type": "display_data",
                    "data": {
                        "text/plain": [
                            "<Figure size 432x288 with 2 Axes>"
                        ],
                        "image/png": "[encoded data removed]"
                    },
                    "metadata": {
                        "needs_background": "light"
                    }
                }
            ],
            "metadata": {}
        },
        {
            "cell_type": "code",
            "execution_count": null,
            "source": [],
            "outputs": [],
            "metadata": {}
        }
    ],
    "metadata": {
        "orig_nbformat": 4,
        "language_info": {
            "name": "python",
            "version": "3.8.8",
            "mimetype": "text/x-python",
            "codemirror_mode": {
                "name": "ipython",
                "version": 3
            },
            "pygments_lexer": "ipython3",
            "nbconvert_exporter": "python",
            "file_extension": ".py"
        },
        "kernelspec": {
            "name": "python3",
            "display_name": "Python 3.8.8 64-bit ('base': conda)"
        },
        "interpreter": {
            "hash": "c0f70214c0dd213f07f54ee5d6e0ea644bdbba35113c9bfe8aaa0d1db03ad5dd"
        }
    },
    "nbformat": 4,
    "nbformat_minor": 2
}