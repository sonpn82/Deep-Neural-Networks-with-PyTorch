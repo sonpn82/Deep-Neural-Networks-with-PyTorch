{
    "cells": [
        {
            "cell_type": "markdown",
            "source": [
                "# IBM Developer Skills Network"
            ],
            "metadata": {}
        },
        {
            "cell_type": "markdown",
            "source": [
                "# Test activation Functions on MNIST Dataset"
            ],
            "metadata": {}
        },
        {
            "cell_type": "code",
            "execution_count": 1,
            "source": [
                "import torch\r\n",
                "import torch.nn as nn\r\n",
                "import torchvision.transforms as transforms\r\n",
                "import torchvision.datasets as dsets\r\n",
                "\r\n",
                "import matplotlib.pylab as plt\r\n",
                "import numpy as np"
            ],
            "outputs": [],
            "metadata": {}
        },
        {
            "cell_type": "markdown",
            "source": [
                "# Neural Network Module and Training"
            ],
            "metadata": {}
        },
        {
            "cell_type": "code",
            "execution_count": 33,
            "source": [
                "# Build the model with sigmoid function\r\n",
                "\r\n",
                "class Net(nn.Module):\r\n",
                "    \r\n",
                "    # Constructor\r\n",
                "    def __init__(self, D_in, H, D_out):\r\n",
                "        super(Net, self).__init__()\r\n",
                "        self.linear1 = nn.Linear(D_in, H)\r\n",
                "        self.linear2 = nn.Linear(H, D_out)\r\n",
                "    \r\n",
                "    # Prediction\r\n",
                "    def forward(self, x):\r\n",
                "        x = torch.sigmoid(self.linear1(x))  \r\n",
                "        x = self.linear2(x)\r\n",
                "        return x"
            ],
            "outputs": [],
            "metadata": {}
        },
        {
            "cell_type": "code",
            "execution_count": 21,
            "source": [
                "# Network with Tanh\r\n",
                "\r\n",
                "class NetTanh(nn.Module):\r\n",
                "\r\n",
                "    # Constructor\r\n",
                "    def __init__(self, D_in, H, D_out):\r\n",
                "        super(NetTanh, self).__init__()\r\n",
                "        self.linear1 = nn.Linear(D_in, H)\r\n",
                "        self.linear2 = nn.Linear(H, D_out)\r\n",
                "\r\n",
                "    # Prediction\r\n",
                "    def forward(self, x):\r\n",
                "        x = torch.tanh(self.linear1(x))\r\n",
                "        x = self.linear2(x)\r\n",
                "        return x"
            ],
            "outputs": [],
            "metadata": {}
        },
        {
            "cell_type": "code",
            "execution_count": 22,
            "source": [
                "# Network with ReLU\r\n",
                "\r\n",
                "class NetRelu(nn.Module):\r\n",
                "\r\n",
                "    # constructor\r\n",
                "    def __init__(self, D_in, H, D_out):\r\n",
                "        super(NetRelu, self).__init__()\r\n",
                "        self.linear1 = nn.Linear(D_in, H)\r\n",
                "        self.linear2 = nn.Linear(H, D_out)\r\n",
                "\r\n",
                "    # Prediction\r\n",
                "    def forward(self, x):\r\n",
                "        x = torch.relu(self.linear1(x))\r\n",
                "        x = self.linear2(x)\r\n",
                "        return x"
            ],
            "outputs": [],
            "metadata": {}
        },
        {
            "cell_type": "code",
            "execution_count": 34,
            "source": [
                "# Define the function for training the model\r\n",
                "\r\n",
                "def train(model, criterion, train_loader, validation_loader, optimizer, epochs = 100):\r\n",
                "    i = 0\r\n",
                "    useful_stuff = {'training_loss':[], 'validation_accuracy':[]}  \r\n",
                "\r\n",
                "    for epoch in range(epochs):\r\n",
                "        for i, (x, y) in enumerate(train_loader):\r\n",
                "            optimizer.zero_grad()\r\n",
                "            z = model(x.view(-1, 28 * 28))\r\n",
                "            loss = criterion(z, y)\r\n",
                "            loss.backward()\r\n",
                "            optimizer.step()\r\n",
                "            useful_stuff['training_loss'].append(loss.item())\r\n",
                "            \r\n",
                "        correct = 0\r\n",
                "        for x, y in validation_loader:\r\n",
                "            z = model(x.view(-1, 28 * 28))\r\n",
                "            _, label=torch.max(z, 1)\r\n",
                "            correct += (label == y).sum().item()\r\n",
                "        accuracy = 100 * (correct / len(validation_dataset))\r\n",
                "        useful_stuff['validation_accuracy'].append(accuracy)\r\n",
                "        \r\n",
                "    return useful_stuff"
            ],
            "outputs": [],
            "metadata": {}
        },
        {
            "cell_type": "markdown",
            "source": [
                "# Get the Data"
            ],
            "metadata": {}
        },
        {
            "cell_type": "code",
            "execution_count": 24,
            "source": [
                "# Create the training dataset\r\n",
                "\r\n",
                "train_dataset = dsets.MNIST(root='./data', train=True, download=True, transform=transforms.ToTensor())"
            ],
            "outputs": [],
            "metadata": {}
        },
        {
            "cell_type": "code",
            "execution_count": 25,
            "source": [
                "# Create the validation  dataset\r\n",
                "\r\n",
                "validation_dataset = dsets.MNIST(root='./data', train=False, download=True, transform=transforms.ToTensor())"
            ],
            "outputs": [],
            "metadata": {}
        },
        {
            "cell_type": "code",
            "execution_count": 26,
            "source": [
                "# criterion\r\n",
                "criterion = nn.CrossEntropyLoss()"
            ],
            "outputs": [],
            "metadata": {}
        },
        {
            "cell_type": "code",
            "execution_count": 27,
            "source": [
                "# loader\r\n",
                "train_loader = torch.utils.data.DataLoader(dataset=train_dataset, batch_size=2000, shuffle=True)\r\n",
                "validation_loader = torch.utils.data.DataLoader(dataset=validation_dataset, batch_size=5000, shuffle=False)"
            ],
            "outputs": [],
            "metadata": {}
        },
        {
            "cell_type": "markdown",
            "source": [
                "# Define the network, criterion, optimizer and train"
            ],
            "metadata": {}
        },
        {
            "cell_type": "code",
            "execution_count": 28,
            "source": [
                "criterion = nn.CrossEntropyLoss()"
            ],
            "outputs": [],
            "metadata": {}
        },
        {
            "cell_type": "code",
            "execution_count": 35,
            "source": [
                "## Create the model object\r\n",
                "\r\n",
                "input_dim = 28 * 28\r\n",
                "hidden_dim = 100\r\n",
                "output_dim = 10\r\n",
                "\r\n",
                "model = Net(input_dim, hidden_dim, output_dim)\r\n",
                "print(model)"
            ],
            "outputs": [
                {
                    "output_type": "stream",
                    "name": "stdout",
                    "text": [
                        "Net(\n",
                        "  (linear1): Linear(in_features=784, out_features=100, bias=True)\n",
                        "  (linear2): Linear(in_features=100, out_features=10, bias=True)\n",
                        ")\n"
                    ]
                }
            ],
            "metadata": {}
        },
        {
            "cell_type": "markdown",
            "source": [
                "# Test Sigmoid, Tanh and Relu"
            ],
            "metadata": {}
        },
        {
            "cell_type": "code",
            "execution_count": 36,
            "source": [
                "# Train a model with sigmoid function\r\n",
                "\r\n",
                "learning_rate = 0.01\r\n",
                "optimizer = torch.optim.SGD(model.parameters(), lr=learning_rate)\r\n",
                "training_results = train(model, criterion, train_loader, validation_loader, optimizer, epochs=30)"
            ],
            "outputs": [],
            "metadata": {}
        },
        {
            "cell_type": "code",
            "execution_count": 37,
            "source": [
                "# Train a model with Tanh function\r\n",
                "\r\n",
                "model_Tanh = NetTanh(input_dim, hidden_dim, output_dim)\r\n",
                "optimizer = torch.optim.SGD(model_Tanh.parameters(), lr=learning_rate)\r\n",
                "training_results_tanch = train(model_Tanh, criterion, train_loader, validation_loader, optimizer, epochs=30)"
            ],
            "outputs": [],
            "metadata": {}
        },
        {
            "cell_type": "code",
            "execution_count": 38,
            "source": [
                "# Train a model with Relu function\r\n",
                "modelRelu = NetRelu(input_dim, hidden_dim, output_dim)\r\n",
                "optimizer = torch.optim.SGD(modelRelu.parameters(), lr=learning_rate)\r\n",
                "training_results_relu = train(modelRelu, criterion, train_loader, validation_loader, optimizer, epochs=30)"
            ],
            "outputs": [],
            "metadata": {}
        },
        {
            "cell_type": "markdown",
            "source": [
                "# Analyze the results"
            ],
            "metadata": {}
        },
        {
            "cell_type": "code",
            "execution_count": 39,
            "source": [
                "# Compare the training loss\r\n",
                "\r\n",
                "plt.plot(training_results_tanch['training_loss'], label='tanh')\r\n",
                "plt.plot(training_results['training_loss'], label='sigmoid')\r\n",
                "plt.plot(training_results_relu['training_loss'], label='relu')\r\n",
                "plt.ylabel('loss')\r\n",
                "plt.title('training loss iterations')\r\n",
                "plt.legend()\r\n",
                "plt.show()"
            ],
            "outputs": [
                {
                    "output_type": "display_data",
                    "data": {
                        "text/plain": [
                            "<Figure size 432x288 with 1 Axes>"
                        ],
                        "image/png": "[encoded data removed]"
                    },
                    "metadata": {
                        "needs_background": "light"
                    }
                }
            ],
            "metadata": {}
        },
        {
            "cell_type": "code",
            "execution_count": 40,
            "source": [
                "# Compare the validation loss\r\n",
                "\r\n",
                "plt.plot(training_results_tanch['validation_accuracy'], label='tanh')\r\n",
                "plt.plot(training_results['validation_accuracy'], label='sigmoid')\r\n",
                "plt.plot(training_results_relu['validation_accuracy'], label='relu') \r\n",
                "plt.ylabel('validation accuracy')\r\n",
                "plt.xlabel('epochs ')   \r\n",
                "plt.legend()\r\n",
                "plt.show()"
            ],
            "outputs": [
                {
                    "output_type": "display_data",
                    "data": {
                        "text/plain": [
                            "<Figure size 432x288 with 1 Axes>"
                        ],
                        "image/png": "[encoded data removed]"
                    },
                    "metadata": {
                        "needs_background": "light"
                    }
                }
            ],
            "metadata": {}
        },
        {
            "cell_type": "markdown",
            "source": [
                "Tanh is the best activation function!"
            ],
            "metadata": {}
        }
    ],
    "metadata": {
        "orig_nbformat": 4,
        "language_info": {
            "name": "python"
        }
    },
    "nbformat": 4,
    "nbformat_minor": 2
}