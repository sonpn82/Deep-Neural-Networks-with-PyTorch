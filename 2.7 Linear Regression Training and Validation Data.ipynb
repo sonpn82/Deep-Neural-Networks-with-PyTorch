{
    "cells": [
        {
            "cell_type": "markdown",
            "source": [
                "# IBM Developer Skills Network"
            ],
            "metadata": {}
        },
        {
            "cell_type": "markdown",
            "source": [
                "# Linear Regression Training and Validation Data"
            ],
            "metadata": {}
        },
        {
            "cell_type": "code",
            "execution_count": 1,
            "source": [
                "import torch\r\n",
                "import matplotlib.pyplot as plt\r\n",
                "from torch import nn, optim"
            ],
            "outputs": [],
            "metadata": {}
        },
        {
            "cell_type": "markdown",
            "source": [
                "# Make some Data"
            ],
            "metadata": {}
        },
        {
            "cell_type": "code",
            "execution_count": 2,
            "source": [
                "# Create Data Class\r\n",
                "\r\n",
                "from torch.utils.data import Dataset, DataLoader\r\n",
                "\r\n",
                "class Data(Dataset):\r\n",
                "\r\n",
                "    # Constructor\r\n",
                "    def __init__(self, train=True):\r\n",
                "        self.x = torch.arange(-3, 3, 0.1).view(-1, 1)\r\n",
                "        self.f = -3*self.x + 1\r\n",
                "        self.y = self.f + 0.1*torch.randn(self.x.size())\r\n",
                "        self.len = self.x.shape[0]\r\n",
                "\r\n",
                "        # outliers\r\n",
                "        if train == True:\r\n",
                "            self.y[0] = 0\r\n",
                "            self.y[50:55] = 20\r\n",
                "        else:\r\n",
                "            pass\r\n",
                "    \r\n",
                "    # Getter\r\n",
                "    def __getitem__(self, index):\r\n",
                "        return self.x[index], self.y[index]\r\n",
                "        \r\n",
                "    # Get length\r\n",
                "    def __len__(self):\r\n",
                "        return self.len"
            ],
            "outputs": [],
            "metadata": {}
        },
        {
            "cell_type": "code",
            "execution_count": 3,
            "source": [
                "# Create training dataset and validation dataset\r\n",
                "\r\n",
                "train_data = Data()\r\n",
                "val_data = Data(train=False)"
            ],
            "outputs": [],
            "metadata": {}
        },
        {
            "cell_type": "code",
            "execution_count": 4,
            "source": [
                "# Plot out training points\r\n",
                "\r\n",
                "plt.plot(train_data.x.numpy(), train_data.y.numpy(), 'xr',label=\"training data \")\r\n",
                "plt.plot(train_data.x.numpy(), train_data.f.numpy(), label=\"true function  \")\r\n",
                "plt.xlabel('x')\r\n",
                "plt.ylabel('y')\r\n",
                "plt.legend()\r\n",
                "plt.show()"
            ],
            "outputs": [
                {
                    "output_type": "display_data",
                    "data": {
                        "text/plain": [
                            "<Figure size 432x288 with 1 Axes>"
                        ],
                        "image/png": "[encoded data removed]"
                    },
                    "metadata": {
                        "needs_background": "light"
                    }
                }
            ],
            "metadata": {}
        },
        {
            "cell_type": "markdown",
            "source": [
                "# Create Linear regression, dataloader, criterion function"
            ],
            "metadata": {}
        },
        {
            "cell_type": "code",
            "execution_count": 5,
            "source": [
                "from torch import nn\r\n",
                "\r\n",
                "class linear_regression(nn.Module):\r\n",
                "    \r\n",
                "    # Constructor\r\n",
                "    def __init__(self, input_size, output_size):\r\n",
                "        super(linear_regression, self).__init__()\r\n",
                "        self.linear = nn.Linear(input_size, output_size)\r\n",
                "\r\n",
                "    # Prediction function\r\n",
                "    def forward(self, x):\r\n",
                "        yhat = self.linear(x)\r\n",
                "        return yhat"
            ],
            "outputs": [],
            "metadata": {}
        },
        {
            "cell_type": "code",
            "execution_count": 6,
            "source": [
                "# Loss function and data loader\r\n",
                "criterion = nn.MSELoss()\r\n",
                "trainloader = DataLoader(dataset = train_data, batch_size=1)"
            ],
            "outputs": [],
            "metadata": {}
        },
        {
            "cell_type": "markdown",
            "source": [
                "# Hyper parameters with learning rate"
            ],
            "metadata": {}
        },
        {
            "cell_type": "code",
            "execution_count": 7,
            "source": [
                "learning_rates = [0.0001, 0.001, 0.01, 0.1]\r\n",
                "\r\n",
                "train_error = torch.zeros(len(learning_rates))\r\n",
                "validation_error = torch.zeros(len(learning_rates))\r\n",
                "\r\n",
                "MODELS = []"
            ],
            "outputs": [],
            "metadata": {}
        },
        {
            "cell_type": "markdown",
            "source": [
                "# Train Models with different Hyperparameters"
            ],
            "metadata": {}
        },
        {
            "cell_type": "code",
            "execution_count": 9,
            "source": [
                "def train_model_with_lr(iter, lr_list):\r\n",
                "\r\n",
                "    for i, lr in enumerate(lr_list):\r\n",
                "        model = linear_regression(1, 1)\r\n",
                "        optimizer = optim.SGD(model.parameters(), lr = lr)\r\n",
                "\r\n",
                "        for epoch in range(iter):\r\n",
                "            for x, y in trainloader:\r\n",
                "\r\n",
                "                yhat = model(x)\r\n",
                "                loss = criterion(yhat, y)\r\n",
                "                optimizer.zero_grad()\r\n",
                "                loss.backward()\r\n",
                "                optimizer.step()\r\n",
                "        \r\n",
                "        # Train data\r\n",
                "        Yhat = model(train_data.x)\r\n",
                "        train_loss = criterion(Yhat, train_data.y)\r\n",
                "        train_error[i] = train_loss.item()\r\n",
                "\r\n",
                "        # Validation data\r\n",
                "        Yhat = model(val_data.x)\r\n",
                "        val_loss = criterion(Yhat, val_data.y)\r\n",
                "        validation_error[i] = val_loss.item()\r\n",
                "        MODELS.append(model)\r\n",
                "\r\n",
                "train_model_with_lr(10, learning_rates)"
            ],
            "outputs": [],
            "metadata": {}
        },
        {
            "cell_type": "markdown",
            "source": [
                "# View the results"
            ],
            "metadata": {}
        },
        {
            "cell_type": "code",
            "execution_count": 11,
            "source": [
                "# Plot the training loss and validation loss\r\n",
                "import numpy as np\r\n",
                "\r\n",
                "plt.semilogx(np.array(learning_rates), train_error.numpy(), label = 'training loss/total Loss')\r\n",
                "plt.semilogx(np.array(learning_rates), validation_error.numpy(), label = 'validation cost/total Loss')\r\n",
                "plt.ylabel('Cost\\ Total Loss')\r\n",
                "plt.xlabel('learning rate')\r\n",
                "plt.legend()\r\n",
                "plt.show()"
            ],
            "outputs": [
                {
                    "output_type": "display_data",
                    "data": {
                        "text/plain": [
                            "<Figure size 432x288 with 1 Axes>"
                        ],
                        "image/png": "[encoded data removed]"
                    },
                    "metadata": {
                        "needs_background": "light"
                    }
                }
            ],
            "metadata": {}
        },
        {
            "cell_type": "code",
            "execution_count": 12,
            "source": [
                "good_model = MODELS[3]\r\n",
                "for x, y in trainloader:\r\n",
                "    print('yhat=', good_model(x), ' y=', y)"
            ],
            "outputs": [
                {
                    "output_type": "stream",
                    "name": "stdout",
                    "text": [
                        "yhat= tensor([[14.2947]], grad_fn=<AddmmBackward>)  y= tensor([[0.]])\n",
                        "yhat= tensor([[13.8660]], grad_fn=<AddmmBackward>)  y= tensor([[9.6404]])\n",
                        "yhat= tensor([[13.4373]], grad_fn=<AddmmBackward>)  y= tensor([[9.3320]])\n",
                        "yhat= tensor([[13.0087]], grad_fn=<AddmmBackward>)  y= tensor([[9.1062]])\n",
                        "yhat= tensor([[12.5800]], grad_fn=<AddmmBackward>)  y= tensor([[8.7893]])\n",
                        "yhat= tensor([[12.1513]], grad_fn=<AddmmBackward>)  y= tensor([[8.4663]])\n",
                        "yhat= tensor([[11.7226]], grad_fn=<AddmmBackward>)  y= tensor([[8.2596]])\n",
                        "yhat= tensor([[11.2940]], grad_fn=<AddmmBackward>)  y= tensor([[7.7933]])\n",
                        "yhat= tensor([[10.8653]], grad_fn=<AddmmBackward>)  y= tensor([[7.5623]])\n",
                        "yhat= tensor([[10.4366]], grad_fn=<AddmmBackward>)  y= tensor([[7.2417]])\n",
                        "yhat= tensor([[10.0079]], grad_fn=<AddmmBackward>)  y= tensor([[7.1001]])\n",
                        "yhat= tensor([[9.5792]], grad_fn=<AddmmBackward>)  y= tensor([[6.5732]])\n",
                        "yhat= tensor([[9.1506]], grad_fn=<AddmmBackward>)  y= tensor([[6.5806]])\n",
                        "yhat= tensor([[8.7219]], grad_fn=<AddmmBackward>)  y= tensor([[6.1297]])\n",
                        "yhat= tensor([[8.2932]], grad_fn=<AddmmBackward>)  y= tensor([[5.7279]])\n",
                        "yhat= tensor([[7.8645]], grad_fn=<AddmmBackward>)  y= tensor([[5.5696]])\n",
                        "yhat= tensor([[7.4359]], grad_fn=<AddmmBackward>)  y= tensor([[5.2700]])\n",
                        "yhat= tensor([[7.0072]], grad_fn=<AddmmBackward>)  y= tensor([[4.8556]])\n",
                        "yhat= tensor([[6.5785]], grad_fn=<AddmmBackward>)  y= tensor([[4.7087]])\n",
                        "yhat= tensor([[6.1498]], grad_fn=<AddmmBackward>)  y= tensor([[4.3142]])\n",
                        "yhat= tensor([[5.7212]], grad_fn=<AddmmBackward>)  y= tensor([[3.9259]])\n",
                        "yhat= tensor([[5.2925]], grad_fn=<AddmmBackward>)  y= tensor([[3.7317]])\n",
                        "yhat= tensor([[4.8638]], grad_fn=<AddmmBackward>)  y= tensor([[3.4771]])\n",
                        "yhat= tensor([[4.4351]], grad_fn=<AddmmBackward>)  y= tensor([[3.1255]])\n",
                        "yhat= tensor([[4.0065]], grad_fn=<AddmmBackward>)  y= tensor([[2.8296]])\n",
                        "yhat= tensor([[3.5778]], grad_fn=<AddmmBackward>)  y= tensor([[2.3855]])\n",
                        "yhat= tensor([[3.1491]], grad_fn=<AddmmBackward>)  y= tensor([[2.2369]])\n",
                        "yhat= tensor([[2.7204]], grad_fn=<AddmmBackward>)  y= tensor([[2.0996]])\n",
                        "yhat= tensor([[2.2918]], grad_fn=<AddmmBackward>)  y= tensor([[1.4146]])\n",
                        "yhat= tensor([[1.8631]], grad_fn=<AddmmBackward>)  y= tensor([[1.0864]])\n",
                        "yhat= tensor([[1.4344]], grad_fn=<AddmmBackward>)  y= tensor([[0.9791]])\n",
                        "yhat= tensor([[1.0057]], grad_fn=<AddmmBackward>)  y= tensor([[0.7371]])\n",
                        "yhat= tensor([[0.5771]], grad_fn=<AddmmBackward>)  y= tensor([[0.2831]])\n",
                        "yhat= tensor([[0.1484]], grad_fn=<AddmmBackward>)  y= tensor([[0.3142]])\n",
                        "yhat= tensor([[-0.2803]], grad_fn=<AddmmBackward>)  y= tensor([[-0.1872]])\n",
                        "yhat= tensor([[-0.7090]], grad_fn=<AddmmBackward>)  y= tensor([[-0.4431]])\n",
                        "yhat= tensor([[-1.1376]], grad_fn=<AddmmBackward>)  y= tensor([[-0.8726]])\n",
                        "yhat= tensor([[-1.5663]], grad_fn=<AddmmBackward>)  y= tensor([[-0.9016]])\n",
                        "yhat= tensor([[-1.9950]], grad_fn=<AddmmBackward>)  y= tensor([[-1.4822]])\n",
                        "yhat= tensor([[-2.4237]], grad_fn=<AddmmBackward>)  y= tensor([[-1.6480]])\n",
                        "yhat= tensor([[-2.8523]], grad_fn=<AddmmBackward>)  y= tensor([[-2.0162]])\n",
                        "yhat= tensor([[-3.2810]], grad_fn=<AddmmBackward>)  y= tensor([[-2.3360]])\n",
                        "yhat= tensor([[-3.7097]], grad_fn=<AddmmBackward>)  y= tensor([[-2.4688]])\n",
                        "yhat= tensor([[-4.1384]], grad_fn=<AddmmBackward>)  y= tensor([[-2.8141]])\n",
                        "yhat= tensor([[-4.5671]], grad_fn=<AddmmBackward>)  y= tensor([[-2.9799]])\n",
                        "yhat= tensor([[-4.9957]], grad_fn=<AddmmBackward>)  y= tensor([[-3.4192]])\n",
                        "yhat= tensor([[-5.4244]], grad_fn=<AddmmBackward>)  y= tensor([[-3.6028]])\n",
                        "yhat= tensor([[-5.8531]], grad_fn=<AddmmBackward>)  y= tensor([[-4.3233]])\n",
                        "yhat= tensor([[-6.2818]], grad_fn=<AddmmBackward>)  y= tensor([[-4.4626]])\n",
                        "yhat= tensor([[-6.7104]], grad_fn=<AddmmBackward>)  y= tensor([[-4.6607]])\n",
                        "yhat= tensor([[-7.1391]], grad_fn=<AddmmBackward>)  y= tensor([[20.]])\n",
                        "yhat= tensor([[-7.5678]], grad_fn=<AddmmBackward>)  y= tensor([[20.]])\n",
                        "yhat= tensor([[-7.9965]], grad_fn=<AddmmBackward>)  y= tensor([[20.]])\n",
                        "yhat= tensor([[-8.4251]], grad_fn=<AddmmBackward>)  y= tensor([[20.]])\n",
                        "yhat= tensor([[-8.8538]], grad_fn=<AddmmBackward>)  y= tensor([[20.]])\n",
                        "yhat= tensor([[-9.2825]], grad_fn=<AddmmBackward>)  y= tensor([[-6.4478]])\n",
                        "yhat= tensor([[-9.7112]], grad_fn=<AddmmBackward>)  y= tensor([[-7.0003]])\n",
                        "yhat= tensor([[-10.1398]], grad_fn=<AddmmBackward>)  y= tensor([[-7.2536]])\n",
                        "yhat= tensor([[-10.5685]], grad_fn=<AddmmBackward>)  y= tensor([[-7.4398]])\n",
                        "yhat= tensor([[-10.9972]], grad_fn=<AddmmBackward>)  y= tensor([[-7.6813]])\n"
                    ]
                }
            ],
            "metadata": {}
        },
        {
            "cell_type": "code",
            "execution_count": null,
            "source": [],
            "outputs": [],
            "metadata": {}
        }
    ],
    "metadata": {
        "orig_nbformat": 4,
        "language_info": {
            "name": "python"
        }
    },
    "nbformat": 4,
    "nbformat_minor": 2
}