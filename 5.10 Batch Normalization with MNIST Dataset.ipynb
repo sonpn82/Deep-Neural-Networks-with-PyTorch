{
    "cells": [
        {
            "cell_type": "markdown",
            "source": [
                "# IBM Developer Skills Network"
            ],
            "metadata": {}
        },
        {
            "cell_type": "markdown",
            "source": [
                "# Batch Normalization with MNIST Dataset"
            ],
            "metadata": {}
        },
        {
            "cell_type": "code",
            "execution_count": 1,
            "source": [
                "import torch\r\n",
                "import torch.nn as nn\r\n",
                "import torchvision.transforms as transforms\r\n",
                "import torchvision.datasets as dsets\r\n",
                "import torch.nn.functional as F\r\n",
                "import matplotlib.pylab as plt\r\n",
                "import numpy as np\r\n",
                "\r\n",
                "torch.manual_seed(0)"
            ],
            "outputs": [
                {
                    "output_type": "execute_result",
                    "data": {
                        "text/plain": [
                            "<torch._C.Generator at 0x5c37990>"
                        ]
                    },
                    "metadata": {},
                    "execution_count": 1
                }
            ],
            "metadata": {}
        },
        {
            "cell_type": "markdown",
            "source": [
                "# Neural Network Module and Training Function"
            ],
            "metadata": {}
        },
        {
            "cell_type": "code",
            "execution_count": 15,
            "source": [
                "# Define the Neural Network Model using Batch Normalization\r\n",
                "\r\n",
                "class NetBatchNorm(nn.Module):\r\n",
                "    \r\n",
                "    # Constructor\r\n",
                "    def __init__(self, in_size, n_hidden1, n_hidden2, out_size):\r\n",
                "        super(NetBatchNorm, self).__init__()\r\n",
                "        self.linear1 = nn.Linear(in_size, n_hidden1)\r\n",
                "        self.linear2 = nn.Linear(n_hidden1, n_hidden2)\r\n",
                "        self.linear3 = nn.Linear(n_hidden2, out_size)\r\n",
                "        self.bn1 = nn.BatchNorm1d(n_hidden1)\r\n",
                "        self.bn2 = nn.BatchNorm1d(n_hidden2)\r\n",
                "        \r\n",
                "    # Prediction\r\n",
                "    def forward(self, x):\r\n",
                "        x = self.bn1(torch.sigmoid(self.linear1(x)))\r\n",
                "        x = self.bn2(torch.sigmoid(self.linear2(x)))\r\n",
                "        x = self.linear3(x)\r\n",
                "        return x\r\n",
                "    \r\n",
                "    # Activations, to analyze results \r\n",
                "    def activation(self, x):\r\n",
                "        out = []\r\n",
                "        z1 = self.bn1(self.linear1(x))\r\n",
                "        out.append(z1.detach().numpy().reshape(-1))\r\n",
                "        a1 = torch.sigmoid(z1)\r\n",
                "        out.append(a1.detach().numpy().reshape(-1).reshape(-1))\r\n",
                "        z2 = self.bn2(self.linear2(a1))\r\n",
                "        out.append(z2.detach().numpy().reshape(-1))\r\n",
                "        a2 = torch.sigmoid(z2)\r\n",
                "        out.append(a2.detach().numpy().reshape(-1))\r\n",
                "        return out"
            ],
            "outputs": [],
            "metadata": {}
        },
        {
            "cell_type": "code",
            "execution_count": 3,
            "source": [
                "# Class Net for Neural Network Model\r\n",
                "\r\n",
                "class Net(nn.Module):\r\n",
                "    \r\n",
                "    # Constructor\r\n",
                "    def __init__(self, in_size, n_hidden1, n_hidden2, out_size):\r\n",
                "\r\n",
                "        super(Net, self).__init__()\r\n",
                "        self.linear1 = nn.Linear(in_size, n_hidden1)\r\n",
                "        self.linear2 = nn.Linear(n_hidden1, n_hidden2)\r\n",
                "        self.linear3 = nn.Linear(n_hidden2, out_size)\r\n",
                "    \r\n",
                "    # Prediction\r\n",
                "    def forward(self, x):\r\n",
                "        x = torch.sigmoid(self.linear1(x))\r\n",
                "        x = torch.sigmoid(self.linear2(x))\r\n",
                "        x = self.linear3(x)\r\n",
                "        return x\r\n",
                "    \r\n",
                "    # Activations, to analyze results \r\n",
                "    def activation(self, x):\r\n",
                "        out = []\r\n",
                "        z1 = self.linear1(x)\r\n",
                "        out.append(z1.detach().numpy().reshape(-1))\r\n",
                "        a1 = torch.sigmoid(z1)\r\n",
                "        out.append(a1.detach().numpy().reshape(-1).reshape(-1))\r\n",
                "        z2 = self.linear2(a1)\r\n",
                "        out.append(z2.detach().numpy().reshape(-1))\r\n",
                "        a2 = torch.sigmoid(z2)\r\n",
                "        out.append(a2.detach().numpy().reshape(-1))\r\n",
                "        return out \r\n"
            ],
            "outputs": [],
            "metadata": {}
        },
        {
            "cell_type": "code",
            "execution_count": 16,
            "source": [
                "# Define the function to train model\r\n",
                "\r\n",
                "def train(model, criterion, train_loader, validation_loader, optimizer, epochs=100):\r\n",
                "    i = 0\r\n",
                "    useful_stuff = {'training_loss':[], 'validation_accuracy':[]}  \r\n",
                "\r\n",
                "    for epoch in range(epochs):\r\n",
                "        for i, (x, y) in enumerate(train_loader):\r\n",
                "            model.train()\r\n",
                "            optimizer.zero_grad()\r\n",
                "            z = model(x.view(-1, 28 * 28))\r\n",
                "            loss = criterion(z, y)\r\n",
                "            loss.backward()\r\n",
                "            optimizer.step()\r\n",
                "            useful_stuff['training_loss'].append(loss.data.item())\r\n",
                "            \r\n",
                "        correct = 0\r\n",
                "        for x, y in validation_loader:\r\n",
                "            model.eval()\r\n",
                "            yhat = model(x.view(-1, 28 * 28))\r\n",
                "            _, label = torch.max(yhat, 1)\r\n",
                "            correct += (label == y).sum().item()\r\n",
                "            \r\n",
                "        accuracy = 100 * (correct / len(validation_dataset))\r\n",
                "        useful_stuff['validation_accuracy'].append(accuracy)\r\n",
                "    \r\n",
                "    return useful_stuff"
            ],
            "outputs": [],
            "metadata": {}
        },
        {
            "cell_type": "markdown",
            "source": [
                "# Get data"
            ],
            "metadata": {}
        },
        {
            "cell_type": "code",
            "execution_count": 17,
            "source": [
                "# load the train dataset\r\n",
                "\r\n",
                "train_dataset = dsets.MNIST(root='./data', train=True, download=True, transform=transforms.ToTensor())"
            ],
            "outputs": [],
            "metadata": {}
        },
        {
            "cell_type": "code",
            "execution_count": 18,
            "source": [
                "# load the train dataset\r\n",
                "\r\n",
                "validation_dataset = dsets.MNIST(root='./data', train=False, download=True, transform=transforms.ToTensor())"
            ],
            "outputs": [],
            "metadata": {}
        },
        {
            "cell_type": "code",
            "execution_count": 19,
            "source": [
                "# Create Data Loader for both train and validating\r\n",
                "\r\n",
                "train_loader = torch.utils.data.DataLoader(dataset=train_dataset, batch_size=2000, shuffle=True)\r\n",
                "validation_loader = torch.utils.data.DataLoader(dataset=validation_dataset, batch_size=5000, shuffle=False)"
            ],
            "outputs": [],
            "metadata": {}
        },
        {
            "cell_type": "markdown",
            "source": [
                "# Define Network"
            ],
            "metadata": {}
        },
        {
            "cell_type": "code",
            "execution_count": 20,
            "source": [
                "# criterion\r\n",
                "criterion = nn.CrossEntropyLoss()"
            ],
            "outputs": [],
            "metadata": {}
        },
        {
            "cell_type": "code",
            "execution_count": 21,
            "source": [
                "# Set the parameters\r\n",
                "input_dim = 28*28\r\n",
                "hidden_dim = 100\r\n",
                "output_dim = 10"
            ],
            "outputs": [],
            "metadata": {}
        },
        {
            "cell_type": "markdown",
            "source": [
                "# Train Neural Network using Batch normalization"
            ],
            "metadata": {}
        },
        {
            "cell_type": "code",
            "execution_count": 22,
            "source": [
                "# With normalization\r\n",
                "model_norm = NetBatchNorm(input_dim, hidden_dim, hidden_dim, output_dim)\r\n",
                "optimizer = torch.optim.Adam(model_norm.parameters(), lr=0.1)\r\n",
                "training_results_Norm = train(model_norm, criterion, train_loader, validation_loader, optimizer, epochs=5)"
            ],
            "outputs": [],
            "metadata": {}
        },
        {
            "cell_type": "code",
            "execution_count": 23,
            "source": [
                "# Create model without Batch Normalization, optimizer and train the model\r\n",
                "\r\n",
                "model = Net(input_dim, hidden_dim, hidden_dim, output_dim)\r\n",
                "optimizer = torch.optim.Adam(model.parameters(), lr = 0.1)\r\n",
                "training_results = train(model, criterion, train_loader, validation_loader, optimizer, epochs=5)"
            ],
            "outputs": [],
            "metadata": {}
        },
        {
            "cell_type": "markdown",
            "source": [
                "# Analyze results"
            ],
            "metadata": {}
        },
        {
            "cell_type": "code",
            "execution_count": 24,
            "source": [
                "model.eval()\r\n",
                "model_norm.eval()\r\n",
                "out=model.activation(validation_dataset[0][0].reshape(-1,28*28))\r\n",
                "plt.hist(out[2],label='model with no batch normalization' )\r\n",
                "out_norm=model_norm.activation(validation_dataset[0][0].reshape(-1,28*28))\r\n",
                "plt.hist(out_norm[2],label='model with normalization')\r\n",
                "plt.xlabel(\"activation \")\r\n",
                "plt.legend()\r\n",
                "plt.show()"
            ],
            "outputs": [
                {
                    "output_type": "display_data",
                    "data": {
                        "text/plain": [
                            "<Figure size 432x288 with 1 Axes>"
                        ],
                        "image/png": "[encoded data removed]"
                    },
                    "metadata": {
                        "needs_background": "light"
                    }
                }
            ],
            "metadata": {}
        },
        {
            "cell_type": "code",
            "execution_count": 25,
            "source": [
                "# Plot the diagram to show the loss\r\n",
                "\r\n",
                "plt.plot(training_results['training_loss'], label='No Batch Normalization')\r\n",
                "plt.plot(training_results_Norm['training_loss'], label='Batch Normalization')\r\n",
                "plt.ylabel('Cost')\r\n",
                "plt.xlabel('iterations ')   \r\n",
                "plt.legend()\r\n",
                "plt.show()"
            ],
            "outputs": [
                {
                    "output_type": "display_data",
                    "data": {
                        "text/plain": [
                            "<Figure size 432x288 with 1 Axes>"
                        ],
                        "image/png": "[encoded data removed]"
                    },
                    "metadata": {
                        "needs_background": "light"
                    }
                }
            ],
            "metadata": {}
        },
        {
            "cell_type": "code",
            "execution_count": 26,
            "source": [
                "# Plot the diagram to show the accuracy\r\n",
                "\r\n",
                "plt.plot(training_results['validation_accuracy'],label='No Batch Normalization')\r\n",
                "plt.plot(training_results_Norm['validation_accuracy'],label='Batch Normalization')\r\n",
                "plt.ylabel('validation accuracy')\r\n",
                "plt.xlabel('epochs ')   \r\n",
                "plt.legend()\r\n",
                "plt.show()"
            ],
            "outputs": [
                {
                    "output_type": "display_data",
                    "data": {
                        "text/plain": [
                            "<Figure size 432x288 with 1 Axes>"
                        ],
                        "image/png": "[encoded data removed]"
                    },
                    "metadata": {
                        "needs_background": "light"
                    }
                }
            ],
            "metadata": {}
        },
        {
            "cell_type": "code",
            "execution_count": null,
            "source": [],
            "outputs": [],
            "metadata": {}
        }
    ],
    "metadata": {
        "orig_nbformat": 4,
        "language_info": {
            "name": "python"
        }
    },
    "nbformat": 4,
    "nbformat_minor": 2
}