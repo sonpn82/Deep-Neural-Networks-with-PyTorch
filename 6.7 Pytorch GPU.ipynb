{
 "cells": [
  {
   "cell_type": "markdown",
   "source": [
    "# Fashion MNIST with GPU"
   ],
   "metadata": {
    "colab_type": "text",
    "id": "MCtlqnqR8h1k"
   }
  },
  {
   "cell_type": "markdown",
   "source": [
    "## Table of Contents"
   ],
   "metadata": {
    "colab_type": "text",
    "id": "dCYgfGj48h1l"
   }
  },
  {
   "cell_type": "markdown",
   "source": [
    "In this project, you will learn how to use a GPU to speed up the training process. We will use convolutional neural networks on the Fashion-MNIST dataset to classify images of clothing."
   ],
   "metadata": {
    "colab_type": "text",
    "id": "UGyZL8Ho8h1l"
   }
  },
  {
   "cell_type": "markdown",
   "source": [
    "* Preperation\n",
    "* Getting the Data\n",
    "* CNN Class Creation\n",
    "* GPU Setup\n",
    "* Training Preperation\n",
    "* Training\n",
    "* Results"
   ],
   "metadata": {
    "colab_type": "text",
    "id": "L-PVqZwr8h1m"
   }
  },
  {
   "cell_type": "markdown",
   "source": [
    "## Preperation"
   ],
   "metadata": {
    "colab_type": "text",
    "id": "bCR93UkX8h1m"
   }
  },
  {
   "cell_type": "code",
   "execution_count": null,
   "source": [
    "#!pip install torch\r\n",
    "#!pip install torchvision"
   ],
   "outputs": [],
   "metadata": {
    "colab": {},
    "colab_type": "code",
    "id": "ncZ_PJnZ8h1n"
   }
  },
  {
   "cell_type": "code",
   "execution_count": 1,
   "source": [
    "# PyTorch Modules you need for this lab\r\n",
    "\r\n",
    "from torch.utils.data import Dataset, DataLoader\r\n",
    "\r\n",
    "from torchvision import transforms\r\n",
    "import torch \r\n",
    "import torch.nn as nn\r\n",
    "import torchvision.transforms as transforms\r\n",
    "import torchvision.datasets as dsets\r\n",
    "torch.manual_seed(0)"
   ],
   "outputs": [
    {
     "output_type": "execute_result",
     "data": {
      "text/plain": [
       "<torch._C.Generator at 0x64199d0>"
      ]
     },
     "metadata": {},
     "execution_count": 1
    }
   ],
   "metadata": {
    "colab": {},
    "colab_type": "code",
    "id": "uiv7tf2N8h1q"
   }
  },
  {
   "cell_type": "code",
   "execution_count": 2,
   "source": [
    "# Other non-PyTorch Modules\r\n",
    "\r\n",
    "from matplotlib.pyplot import imshow\r\n",
    "import matplotlib.pylab as plt\r\n",
    "\r\n",
    "from PIL import Image"
   ],
   "outputs": [],
   "metadata": {
    "colab": {},
    "colab_type": "code",
    "id": "KDxzL6WK8h1s"
   }
  },
  {
   "cell_type": "code",
   "execution_count": 3,
   "source": [
    "# Function to show images\r\n",
    "\r\n",
    "def show_data(data_sample):\r\n",
    "    plt.imshow(data_sample[0].numpy().reshape(28, 28), cmap='gray')\r\n",
    "    plt.title('y = '+ str(data_sample[1]))"
   ],
   "outputs": [],
   "metadata": {
    "colab": {},
    "colab_type": "code",
    "id": "iwM4Nfz-8h1u"
   }
  },
  {
   "cell_type": "markdown",
   "source": [
    "## Getting the Data"
   ],
   "metadata": {
    "colab_type": "text",
    "id": "U4pmMM_X8h1w"
   }
  },
  {
   "cell_type": "markdown",
   "source": [
    "In this section, you will load a Dataset object, but first you must transform the dataset. Use the <code>Compose</code> function to perform the following transforms:\n",
    "\n",
    "* use the transforms object <code> ToTensor </code> to convert the image to a tensor"
   ],
   "metadata": {
    "colab_type": "text",
    "id": "aYq7jU078h1x"
   }
  },
  {
   "cell_type": "code",
   "execution_count": 4,
   "source": [
    "composed = transforms.Compose([transforms.ToTensor()])"
   ],
   "outputs": [],
   "metadata": {
    "colab": {},
    "colab_type": "code",
    "id": "p3Jnraqt8h1x"
   }
  },
  {
   "cell_type": "markdown",
   "source": [
    "Create two dataset objects for the Fashion MNIST  dataset. One for training data called <code> dataset_train </code> and one for validation data <code> dataset_test </code>."
   ],
   "metadata": {
    "colab_type": "text",
    "id": "BT-83X3u8h1z"
   }
  },
  {
   "cell_type": "code",
   "execution_count": 5,
   "source": [
    "dataset_train = dsets.FashionMNIST(root= '.fashion/data', train=True, transform=composed,  download=True)\r\n",
    "dataset_test = dsets.FashionMNIST(root= '.fashion/data', train=False, transform=composed,  download=True)"
   ],
   "outputs": [
    {
     "output_type": "stream",
     "name": "stdout",
     "text": [
      "Downloading http://fashion-mnist.s3-website.eu-central-1.amazonaws.com/train-images-idx3-ubyte.gz\n",
      "Downloading http://fashion-mnist.s3-website.eu-central-1.amazonaws.com/train-images-idx3-ubyte.gz to .fashion/data\\FashionMNIST\\raw\\train-images-idx3-ubyte.gz\n"
     ]
    },
    {
     "output_type": "stream",
     "name": "stderr",
     "text": [
      "26422272it [00:34, 758215.02it/s]                              \n"
     ]
    },
    {
     "output_type": "stream",
     "name": "stdout",
     "text": [
      "Extracting .fashion/data\\FashionMNIST\\raw\\train-images-idx3-ubyte.gz to .fashion/data\\FashionMNIST\\raw\n",
      "\n",
      "Downloading http://fashion-mnist.s3-website.eu-central-1.amazonaws.com/train-labels-idx1-ubyte.gz\n",
      "Downloading http://fashion-mnist.s3-website.eu-central-1.amazonaws.com/train-labels-idx1-ubyte.gz to .fashion/data\\FashionMNIST\\raw\\train-labels-idx1-ubyte.gz\n"
     ]
    },
    {
     "output_type": "stream",
     "name": "stderr",
     "text": [
      "29696it [00:00, 103105.18it/s]                          \n"
     ]
    },
    {
     "output_type": "stream",
     "name": "stdout",
     "text": [
      "Extracting .fashion/data\\FashionMNIST\\raw\\train-labels-idx1-ubyte.gz to .fashion/data\\FashionMNIST\\raw\n",
      "\n",
      "Downloading http://fashion-mnist.s3-website.eu-central-1.amazonaws.com/t10k-images-idx3-ubyte.gz\n",
      "Downloading http://fashion-mnist.s3-website.eu-central-1.amazonaws.com/t10k-images-idx3-ubyte.gz to .fashion/data\\FashionMNIST\\raw\\t10k-images-idx3-ubyte.gz\n"
     ]
    },
    {
     "output_type": "stream",
     "name": "stderr",
     "text": [
      "4422656it [00:05, 752749.44it/s]                             \n"
     ]
    },
    {
     "output_type": "stream",
     "name": "stdout",
     "text": [
      "Extracting .fashion/data\\FashionMNIST\\raw\\t10k-images-idx3-ubyte.gz to .fashion/data\\FashionMNIST\\raw\n",
      "\n",
      "Downloading http://fashion-mnist.s3-website.eu-central-1.amazonaws.com/t10k-labels-idx1-ubyte.gz\n",
      "Downloading http://fashion-mnist.s3-website.eu-central-1.amazonaws.com/t10k-labels-idx1-ubyte.gz to .fashion/data\\FashionMNIST\\raw\\t10k-labels-idx1-ubyte.gz\n"
     ]
    },
    {
     "output_type": "stream",
     "name": "stderr",
     "text": [
      "6144it [00:00, 6142980.64it/s]          \n",
      "C:\\Users\\hp\\anaconda3\\lib\\site-packages\\torchvision\\datasets\\mnist.py:502: UserWarning: The given NumPy array is not writeable, and PyTorch does not support non-writeable tensors. This means you can write to the underlying (supposedly non-writeable) NumPy array using the tensor. You may want to copy the array to protect its data or make it writeable before converting it to a tensor. This type of warning will be suppressed for the rest of this program. (Triggered internally at  ..\\torch\\csrc\\utils\\tensor_numpy.cpp:143.)\n",
      "  return torch.from_numpy(parsed.astype(m[2], copy=False)).view(*s)\n"
     ]
    },
    {
     "output_type": "stream",
     "name": "stdout",
     "text": [
      "Extracting .fashion/data\\FashionMNIST\\raw\\t10k-labels-idx1-ubyte.gz to .fashion/data\\FashionMNIST\\raw\n",
      "\n",
      "Processing...\n",
      "Done!\n"
     ]
    }
   ],
   "metadata": {
    "colab": {},
    "colab_type": "code",
    "id": "LewCbhKS8h10"
   }
  },
  {
   "cell_type": "markdown",
   "source": [
    "Below you can see a few examples of the images we are working with"
   ],
   "metadata": {
    "colab_type": "text",
    "id": "Q7sf2u0i8h12"
   }
  },
  {
   "cell_type": "code",
   "execution_count": 6,
   "source": [
    "for n,data_sample in enumerate(dataset_test):\r\n",
    "    show_data(data_sample)\r\n",
    "    plt.show()\r\n",
    "    if n==5:\r\n",
    "        break "
   ],
   "outputs": [
    {
     "output_type": "display_data",
     "data": {
      "text/plain": [
       "<Figure size 432x288 with 1 Axes>"
      ],
      "image/png": "[encoded data removed]"
     },
     "metadata": {
      "needs_background": "light"
     }
    },
    {
     "output_type": "display_data",
     "data": {
      "text/plain": [
       "<Figure size 432x288 with 1 Axes>"
      ],
      "image/png": "[encoded data removed]"
     },
     "metadata": {
      "needs_background": "light"
     }
    },
    {
     "output_type": "display_data",
     "data": {
      "text/plain": [
       "<Figure size 432x288 with 1 Axes>"
      ],
      "image/png": "[encoded data removed]"
     },
     "metadata": {
      "needs_background": "light"
     }
    },
    {
     "output_type": "display_data",
     "data": {
      "text/plain": [
       "<Figure size 432x288 with 1 Axes>"
      ],
      "image/png": "[encoded data removed]"
     },
     "metadata": {
      "needs_background": "light"
     }
    },
    {
     "output_type": "display_data",
     "data": {
      "text/plain": [
       "<Figure size 432x288 with 1 Axes>"
      ],
      "image/png": "[encoded data removed]"
     },
     "metadata": {
      "needs_background": "light"
     }
    },
    {
     "output_type": "display_data",
     "data": {
      "text/plain": [
       "<Figure size 432x288 with 1 Axes>"
      ],
      "image/png": "[encoded data removed]"
     },
     "metadata": {
      "needs_background": "light"
     }
    }
   ],
   "metadata": {
    "colab": {},
    "colab_type": "code",
    "id": "02hRvstY8h13"
   }
  },
  {
   "cell_type": "markdown",
   "source": [
    "Create a loader for the training data and testing data with batch size set to 100"
   ],
   "metadata": {
    "colab_type": "text",
    "id": "Dhw7CH7i8h15"
   }
  },
  {
   "cell_type": "code",
   "execution_count": 7,
   "source": [
    "train_loader = torch.utils.data.DataLoader(dataset=dataset_train, batch_size=100 )\r\n",
    "test_loader = torch.utils.data.DataLoader(dataset=dataset_test, batch_size=100 )"
   ],
   "outputs": [],
   "metadata": {
    "colab": {},
    "colab_type": "code",
    "id": "OgXxskhe8h15"
   }
  },
  {
   "cell_type": "markdown",
   "source": [
    "## CNN Class Creation"
   ],
   "metadata": {
    "colab_type": "text",
    "id": "R7TmXgZX8h17"
   }
  },
  {
   "cell_type": "code",
   "execution_count": 8,
   "source": [
    "class CNN(nn.Module):\r\n",
    "    \r\n",
    "    # Contructor\r\n",
    "    def __init__(self, out_1=16, out_2=32,number_of_classes=10):\r\n",
    "        super(CNN, self).__init__()\r\n",
    "        self.cnn1 = nn.Conv2d(in_channels=1, out_channels=out_1, kernel_size=5, padding=2)\r\n",
    "        self.maxpool1=nn.MaxPool2d(kernel_size=2)\r\n",
    "\r\n",
    "        self.cnn2 = nn.Conv2d(in_channels=out_1, out_channels=out_2, kernel_size=5, stride=1, padding=2)\r\n",
    "        self.maxpool2=nn.MaxPool2d(kernel_size=2)\r\n",
    "        \r\n",
    "        self.fc1 = nn.Linear(out_2 * 7 * 7, number_of_classes)\r\n",
    "    \r\n",
    "    # Prediction\r\n",
    "    def forward(self, x):\r\n",
    "        x = self.cnn1(x)\r\n",
    "        x = torch.relu(x)\r\n",
    "        x = self.maxpool1(x)\r\n",
    "        x = self.cnn2(x)\r\n",
    "        x = torch.relu(x)\r\n",
    "        x = self.maxpool2(x)\r\n",
    "        x = x.view(x.size(0), -1)\r\n",
    "        x = self.fc1(x)\r\n",
    "        return x"
   ],
   "outputs": [],
   "metadata": {
    "colab": {},
    "colab_type": "code",
    "id": "cAZzeFx08h17"
   }
  },
  {
   "cell_type": "markdown",
   "source": [
    "## GPU Setup"
   ],
   "metadata": {
    "colab_type": "text",
    "id": "Q999BGaL8h19"
   }
  },
  {
   "cell_type": "markdown",
   "source": [
    "First lets see if there is a GPU available"
   ],
   "metadata": {
    "colab_type": "text",
    "id": "wk0PYiGv8h1-"
   }
  },
  {
   "cell_type": "code",
   "execution_count": 9,
   "source": [
    "torch.cuda.is_available()"
   ],
   "outputs": [
    {
     "output_type": "execute_result",
     "data": {
      "text/plain": [
       "True"
      ]
     },
     "metadata": {},
     "execution_count": 9
    }
   ],
   "metadata": {
    "colab": {},
    "colab_type": "code",
    "id": "1LHwERMs8h1_"
   }
  },
  {
   "cell_type": "markdown",
   "source": [
    "If there is a GPU available then we will create our device object so we can use the GPU"
   ],
   "metadata": {
    "colab_type": "text",
    "id": "QvqVgD1z8h2B"
   }
  },
  {
   "cell_type": "code",
   "execution_count": 10,
   "source": [
    "device = torch.device('cuda:0')\r\n",
    "device"
   ],
   "outputs": [
    {
     "output_type": "execute_result",
     "data": {
      "text/plain": [
       "device(type='cuda', index=0)"
      ]
     },
     "metadata": {},
     "execution_count": 10
    }
   ],
   "metadata": {
    "colab": {},
    "colab_type": "code",
    "id": "JWlem5F48h2B"
   }
  },
  {
   "cell_type": "markdown",
   "source": [
    "## Training Preperation"
   ],
   "metadata": {
    "colab_type": "text",
    "id": "oQOO09cn8h2D"
   }
  },
  {
   "cell_type": "markdown",
   "source": [
    "First we will create our model and CNN object called model and send the model to the GPU"
   ],
   "metadata": {
    "colab_type": "text",
    "id": "n0RKOF6m8h2D"
   }
  },
  {
   "cell_type": "code",
   "execution_count": 11,
   "source": [
    "model = CNN()\r\n",
    "\r\n",
    "model.to(device)"
   ],
   "outputs": [
    {
     "output_type": "execute_result",
     "data": {
      "text/plain": [
       "CNN(\n",
       "  (cnn1): Conv2d(1, 16, kernel_size=(5, 5), stride=(1, 1), padding=(2, 2))\n",
       "  (maxpool1): MaxPool2d(kernel_size=2, stride=2, padding=0, dilation=1, ceil_mode=False)\n",
       "  (cnn2): Conv2d(16, 32, kernel_size=(5, 5), stride=(1, 1), padding=(2, 2))\n",
       "  (maxpool2): MaxPool2d(kernel_size=2, stride=2, padding=0, dilation=1, ceil_mode=False)\n",
       "  (fc1): Linear(in_features=1568, out_features=10, bias=True)\n",
       ")"
      ]
     },
     "metadata": {},
     "execution_count": 11
    }
   ],
   "metadata": {
    "colab": {},
    "colab_type": "code",
    "id": "Qi3e5qFF8h2E"
   }
  },
  {
   "cell_type": "markdown",
   "source": [
    "Now we will create our loss function and optimizer"
   ],
   "metadata": {
    "colab_type": "text",
    "id": "u_oc8PS88h2G"
   }
  },
  {
   "cell_type": "code",
   "execution_count": 12,
   "source": [
    "criterion = nn.CrossEntropyLoss()\r\n",
    "\r\n",
    "optimizer = torch.optim.SGD(model.parameters(), lr=0.001)"
   ],
   "outputs": [],
   "metadata": {
    "colab": {},
    "colab_type": "code",
    "id": "JKucH9EZ8h2G"
   }
  },
  {
   "cell_type": "markdown",
   "source": [
    "## Training"
   ],
   "metadata": {
    "colab_type": "text",
    "id": "sDtMILfm8h2I"
   }
  },
  {
   "cell_type": "markdown",
   "source": [
    "Here we have defined a function that performs the training. It takes the model, criterion, optimizer, and number of epochs and trains the model using the GPU. It returns two lists that contain accuracy and cost values over the training process."
   ],
   "metadata": {
    "colab_type": "text",
    "id": "fSmKGtAb8h2I"
   }
  },
  {
   "cell_type": "code",
   "execution_count": 13,
   "source": [
    "def train(model, criterion, optimizer, n_epochs):\r\n",
    "\r\n",
    "    cost_list=[]\r\n",
    "    accuracy_list=[]\r\n",
    "    N_test=len(dataset_test)\r\n",
    "    \r\n",
    "    for epoch in range(n_epochs):\r\n",
    "\r\n",
    "        cost=0\r\n",
    "        model.train()\r\n",
    "\r\n",
    "        for x, y in train_loader:\r\n",
    "            \r\n",
    "            # sends features and labels to the GPU\r\n",
    "            x, y = x.to(device), y.to(device)\r\n",
    "            \r\n",
    "            optimizer.zero_grad()\r\n",
    "            z = model(x)\r\n",
    "            loss = criterion(z, y)\r\n",
    "            loss.backward()\r\n",
    "            optimizer.step()\r\n",
    "            cost+=loss.item()\r\n",
    "\r\n",
    "        correct=0\r\n",
    "        model.eval()\r\n",
    "\r\n",
    "        for x_test, y_test in test_loader:\r\n",
    "            \r\n",
    "            # sends the features and labels to the GPU\r\n",
    "            x_test, y_test = x_test.to(device), y_test.to(device)\r\n",
    "            \r\n",
    "            z = model(x_test)\r\n",
    "            _, yhat = torch.max(z.data, 1)\r\n",
    "            correct += (yhat == y_test).sum().item()\r\n",
    "\r\n",
    "        accuracy = correct / N_test\r\n",
    "        accuracy_list.append(accuracy)\r\n",
    "        cost_list.append(cost)\r\n",
    "    \r\n",
    "    return cost_list, accuracy_list"
   ],
   "outputs": [],
   "metadata": {
    "colab": {},
    "colab_type": "code",
    "id": "Cj6qGhTt8h2I"
   }
  },
  {
   "cell_type": "markdown",
   "source": [
    "Now we train the model and also track how long it takes"
   ],
   "metadata": {
    "colab_type": "text",
    "id": "vPKF7lLh8h2K"
   }
  },
  {
   "cell_type": "code",
   "execution_count": 14,
   "source": [
    "%%time\r\n",
    "\r\n",
    "cost_list, accuracy_list = train(model, criterion, optimizer, n_epochs=5)"
   ],
   "outputs": [
    {
     "output_type": "stream",
     "name": "stdout",
     "text": [
      "Wall time: 1min 15s\n"
     ]
    }
   ],
   "metadata": {
    "colab": {},
    "colab_type": "code",
    "id": "td3_6hti8h2L"
   }
  },
  {
   "cell_type": "markdown",
   "source": [
    "Training the model using the GPU took ~40 seconds. You can try to train the model without using the GPU by creating a new CNN object and commenting out all the code related to the device. Without the GPU the training took ~82 seconds which mean the GPU trains the CNN ~2 times faster than the CPU. Although 82 seconds is rather short if we increase the number of CNN nodes, layers, channels, etc. we can easily save massive amounts of time."
   ],
   "metadata": {
    "colab_type": "text",
    "id": "qQgj2-AFBhsN"
   }
  },
  {
   "cell_type": "markdown",
   "source": [
    "## Results"
   ],
   "metadata": {
    "colab_type": "text",
    "id": "vPPusiCZ8h2M"
   }
  },
  {
   "cell_type": "markdown",
   "source": [
    "Now we can use the accuracy list and cost list to see how the model performed over the training process"
   ],
   "metadata": {
    "colab_type": "text",
    "id": "nvHqLLHw8h2N"
   }
  },
  {
   "cell_type": "code",
   "execution_count": 15,
   "source": [
    "fig, ax1 = plt.subplots()\r\n",
    "color = 'tab:red'\r\n",
    "ax1.plot(cost_list, color=color)\r\n",
    "ax1.set_xlabel('epoch', color=color)\r\n",
    "ax1.set_ylabel('Cost', color=color)\r\n",
    "ax1.tick_params(axis='y', color=color)\r\n",
    "    \r\n",
    "ax2 = ax1.twinx()  \r\n",
    "color = 'tab:blue'\r\n",
    "ax2.set_ylabel('accuracy', color=color) \r\n",
    "ax2.set_xlabel('epoch', color=color)\r\n",
    "ax2.plot( accuracy_list, color=color)\r\n",
    "ax2.tick_params(axis='y', color=color)\r\n",
    "fig.tight_layout()"
   ],
   "outputs": [
    {
     "output_type": "display_data",
     "data": {
      "text/plain": [
       "<Figure size 432x288 with 2 Axes>"
      ],
      "image/png": "[encoded data removed]"
     },
     "metadata": {
      "needs_background": "light"
     }
    }
   ],
   "metadata": {
    "colab": {},
    "colab_type": "code",
    "id": "yjaNqeei8h2N"
   }
  },
  {
   "cell_type": "code",
   "execution_count": null,
   "source": [],
   "outputs": [],
   "metadata": {
    "colab": {},
    "colab_type": "code",
    "id": "7WuBo2YiEzMr"
   }
  }
 ],
 "metadata": {
  "accelerator": "GPU",
  "colab": {
   "collapsed_sections": [],
   "name": "PytorchGPU.ipynb",
   "provenance": []
  },
  "kernelspec": {
   "display_name": "Python",
   "language": "python",
   "name": "conda-env-python-py"
  },
  "language_info": {
   "codemirror_mode": {
    "name": "ipython",
    "version": 3
   },
   "file_extension": ".py",
   "mimetype": "text/x-python",
   "name": "python",
   "nbconvert_exporter": "python",
   "pygments_lexer": "ipython3",
   "version": "3.6.11"
  }
 },
 "nbformat": 4,
 "nbformat_minor": 4
}